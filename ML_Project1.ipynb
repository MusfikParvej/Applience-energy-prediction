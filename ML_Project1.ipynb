{
  "cells": [
    {
      "cell_type": "markdown",
      "metadata": {
        "id": "HPQtXTqLOwyF"
      },
      "source": [
        "# <font color='red'> Project 1  \n",
        "\n",
        "    \n",
        "#  Regression\n",
        "\n",
        "# About the Data\n",
        "\n",
        "Date: time (yr:mon:day:hr:min:sec)       Appliances: energy use in Wh     lights: Energy use of light fixtures in the house(Wh)  \n",
        "T1: Temperature in kitchen area(C)                                          RH_1: Humidity in kitchen area(%)      \n",
        "T2: Temperature in living room area(C)                                      RH_2: Humidity in living room(%)         \n",
        "T3: Temperature in laundry room                                             RH_3: Humidity in laundry room area(%)             \n",
        "T4: Temperature in office room(C)                                           RH_4: Humidity in office room(%)       \n",
        "T5: Temperature in bathroom in (C)                                          RH_5: Humidity in bathroom(%)                    \n",
        "T6: Temperature outside the building (north side) in (C)                    RH_6: Humidity outside the building (northside)%    \n",
        "T7: Temperature in ironing room in (C)                                      RH_7: Humidity in ironing room in (%)    \n",
        "T8:Temperature in teenager room 2 in (C)                                    RH_8: Humidity in teenager room 2 in (%)\n",
        "\n",
        "T9: Temperature in parents room in (C)                                      RH_9: Humidity in parents room in %\n",
        "\n",
        "To: Temperature outside (from Chievres weather station) in (C)              Pressure (from Chievres weather station): in mm Hg\n",
        "RH_out: Humidity outside (from Chievres weather station) in (%)             Wind speed (from Chievres weather station): in(m/s)\n",
        "Visibility (from Chievres weather station): Ordinal data                    Tdewpoint (from Chievres weather station): Cat data\n",
        "rv1: Random variable 1(nondimensional)                                      rav2: Random variable 2(nondimensional)\n",
        "\n",
        "Where indicated, hourly data (then interpolated) from the nearest airport weather station (Chievres Airport, Belgium) was downloaded from a public data set from Reliable Prognosis, rp5.ru. Permission was obtained from Reliable Prognosis for the distribution of the 4.5 months of weather data."
      ]
    },
    {
      "cell_type": "code",
      "execution_count": 5,
      "metadata": {
        "colab": {
          "base_uri": "https://localhost:8080/",
          "height": 17
        },
        "id": "x1-yi4uFOwyH",
        "outputId": "e2bc9e40-dfba-4858-8f77-1f34d2359692"
      },
      "outputs": [
        {
          "output_type": "display_data",
          "data": {
            "text/html": [
              "        <script type=\"text/javascript\">\n",
              "        window.PlotlyConfig = {MathJaxConfig: 'local'};\n",
              "        if (window.MathJax && window.MathJax.Hub && window.MathJax.Hub.Config) {window.MathJax.Hub.Config({SVG: {font: \"STIX-Web\"}});}\n",
              "        if (typeof require !== 'undefined') {\n",
              "        require.undef(\"plotly\");\n",
              "        requirejs.config({\n",
              "            paths: {\n",
              "                'plotly': ['https://cdn.plot.ly/plotly-2.24.1.min']\n",
              "            }\n",
              "        });\n",
              "        require(['plotly'], function(Plotly) {\n",
              "            window._Plotly = Plotly;\n",
              "        });\n",
              "        }\n",
              "        </script>\n",
              "        "
            ]
          },
          "metadata": {}
        }
      ],
      "source": [
        "###Downloading all the library required for the project\n",
        "import numpy as np\n",
        "import pandas as pd\n",
        "import matplotlib.pyplot as plt\n",
        "import seaborn as sns\n",
        "from sklearn import preprocessing, model_selection, metrics\n",
        "import missingno as mno #install running pip install missingno on cmd if using PYPI directly or conda install -c conda-forge missingno -if using anaconda)\\\n",
        "#from missingpy import KNNImputer # pip install missingpy on cmd\n",
        "import plotly.offline as py #Package for data visulization\n",
        "from plotly.offline import init_notebook_mode, iplot\n",
        "init_notebook_mode(connected=True)\n",
        "import plotly.graph_objs as go\n",
        "import plotly.figure_factory as ff\n",
        "from sklearn.preprocessing import StandardScaler\n",
        "from sklearn.model_selection import train_test_split\n",
        "from sklearn.linear_model import LinearRegression\n",
        "from sklearn.model_selection import cross_val_score\n",
        "from  sklearn.linear_model import Ridge\n",
        "import warnings\n",
        "warnings.filterwarnings(\"ignore\")\n",
        "from sklearn.model_selection import GridSearchCV\n",
        "from sklearn.linear_model import Lasso\n",
        "from  sklearn.preprocessing  import PolynomialFeatures\n",
        "%matplotlib inline\n",
        "import matplotlib.pyplot as plt\n",
        "from sklearn.linear_model import LogisticRegression\n",
        "from sklearn.svm import SVR\n",
        "from sklearn.svm import LinearSVR\n",
        "from sklearn.tree import DecisionTreeRegressor\n",
        "from sklearn.neighbors import KNeighborsRegressor"
      ]
    },
    {
      "cell_type": "markdown",
      "metadata": {
        "id": "gvy5bpMUOwyI"
      },
      "source": [
        "# Exploratory Data Analysis"
      ]
    },
    {
      "cell_type": "code",
      "execution_count": 7,
      "metadata": {
        "id": "UyRUbWo9OwyI"
      },
      "outputs": [],
      "source": [
        "#Import data into python\n",
        "data = pd.read_csv(r'/content/energydata_complete.csv', index_col= None)"
      ]
    },
    {
      "cell_type": "code",
      "source": [
        "from google.colab import drive\n",
        "drive.mount('/content/drive')"
      ],
      "metadata": {
        "colab": {
          "base_uri": "https://localhost:8080/"
        },
        "id": "1Z-ygYl5ulov",
        "outputId": "9dcb5757-addc-415a-964a-70b12dffa764"
      },
      "execution_count": 8,
      "outputs": [
        {
          "output_type": "stream",
          "name": "stdout",
          "text": [
            "Mounted at /content/drive\n"
          ]
        }
      ]
    },
    {
      "cell_type": "code",
      "execution_count": 9,
      "metadata": {
        "colab": {
          "base_uri": "https://localhost:8080/",
          "height": 429
        },
        "id": "L-ITzpeSOwyJ",
        "outputId": "32e6ff0d-c338-4718-fadf-9c774c9764a4"
      },
      "outputs": [
        {
          "output_type": "execute_result",
          "data": {
            "text/plain": [
              "                  date  Appliances  lights     T1       RH_1    T2       RH_2  \\\n",
              "0  2016-01-11 17:00:00          60      30  19.89  47.596667  19.2  44.790000   \n",
              "1  2016-01-11 17:10:00          60      30  19.89  46.693333  19.2  44.722500   \n",
              "2  2016-01-11 17:20:00          50      30  19.89  46.300000  19.2  44.626667   \n",
              "3  2016-01-11 17:30:00          50      40  19.89  46.066667  19.2  44.590000   \n",
              "4  2016-01-11 17:40:00          60      40  19.89  46.333333  19.2  44.530000   \n",
              "\n",
              "      T3       RH_3         T4  ...         T9   RH_9     T_out  Press_mm_hg  \\\n",
              "0  19.79  44.730000  19.000000  ...  17.033333  45.53  6.600000        733.5   \n",
              "1  19.79  44.790000  19.000000  ...  17.066667  45.56  6.483333        733.6   \n",
              "2  19.79  44.933333  18.926667  ...  17.000000  45.50  6.366667        733.7   \n",
              "3  19.79  45.000000  18.890000  ...  17.000000  45.40  6.250000        733.8   \n",
              "4  19.79  45.000000  18.890000  ...  17.000000  45.40  6.133333        733.9   \n",
              "\n",
              "   RH_out  Windspeed  Visibility  Tdewpoint        rv1        rv2  \n",
              "0    92.0   7.000000   63.000000        5.3  13.275433  13.275433  \n",
              "1    92.0   6.666667   59.166667        5.2  18.606195  18.606195  \n",
              "2    92.0   6.333333   55.333333        5.1  28.642668  28.642668  \n",
              "3    92.0   6.000000   51.500000        5.0  45.410389  45.410389  \n",
              "4    92.0   5.666667   47.666667        4.9  10.084097  10.084097  \n",
              "\n",
              "[5 rows x 29 columns]"
            ],
            "text/html": [
              "\n",
              "  <div id=\"df-8f799e20-f78e-4bbf-b46b-cfdfbb6399b2\" class=\"colab-df-container\">\n",
              "    <div>\n",
              "<style scoped>\n",
              "    .dataframe tbody tr th:only-of-type {\n",
              "        vertical-align: middle;\n",
              "    }\n",
              "\n",
              "    .dataframe tbody tr th {\n",
              "        vertical-align: top;\n",
              "    }\n",
              "\n",
              "    .dataframe thead th {\n",
              "        text-align: right;\n",
              "    }\n",
              "</style>\n",
              "<table border=\"1\" class=\"dataframe\">\n",
              "  <thead>\n",
              "    <tr style=\"text-align: right;\">\n",
              "      <th></th>\n",
              "      <th>date</th>\n",
              "      <th>Appliances</th>\n",
              "      <th>lights</th>\n",
              "      <th>T1</th>\n",
              "      <th>RH_1</th>\n",
              "      <th>T2</th>\n",
              "      <th>RH_2</th>\n",
              "      <th>T3</th>\n",
              "      <th>RH_3</th>\n",
              "      <th>T4</th>\n",
              "      <th>...</th>\n",
              "      <th>T9</th>\n",
              "      <th>RH_9</th>\n",
              "      <th>T_out</th>\n",
              "      <th>Press_mm_hg</th>\n",
              "      <th>RH_out</th>\n",
              "      <th>Windspeed</th>\n",
              "      <th>Visibility</th>\n",
              "      <th>Tdewpoint</th>\n",
              "      <th>rv1</th>\n",
              "      <th>rv2</th>\n",
              "    </tr>\n",
              "  </thead>\n",
              "  <tbody>\n",
              "    <tr>\n",
              "      <th>0</th>\n",
              "      <td>2016-01-11 17:00:00</td>\n",
              "      <td>60</td>\n",
              "      <td>30</td>\n",
              "      <td>19.89</td>\n",
              "      <td>47.596667</td>\n",
              "      <td>19.2</td>\n",
              "      <td>44.790000</td>\n",
              "      <td>19.79</td>\n",
              "      <td>44.730000</td>\n",
              "      <td>19.000000</td>\n",
              "      <td>...</td>\n",
              "      <td>17.033333</td>\n",
              "      <td>45.53</td>\n",
              "      <td>6.600000</td>\n",
              "      <td>733.5</td>\n",
              "      <td>92.0</td>\n",
              "      <td>7.000000</td>\n",
              "      <td>63.000000</td>\n",
              "      <td>5.3</td>\n",
              "      <td>13.275433</td>\n",
              "      <td>13.275433</td>\n",
              "    </tr>\n",
              "    <tr>\n",
              "      <th>1</th>\n",
              "      <td>2016-01-11 17:10:00</td>\n",
              "      <td>60</td>\n",
              "      <td>30</td>\n",
              "      <td>19.89</td>\n",
              "      <td>46.693333</td>\n",
              "      <td>19.2</td>\n",
              "      <td>44.722500</td>\n",
              "      <td>19.79</td>\n",
              "      <td>44.790000</td>\n",
              "      <td>19.000000</td>\n",
              "      <td>...</td>\n",
              "      <td>17.066667</td>\n",
              "      <td>45.56</td>\n",
              "      <td>6.483333</td>\n",
              "      <td>733.6</td>\n",
              "      <td>92.0</td>\n",
              "      <td>6.666667</td>\n",
              "      <td>59.166667</td>\n",
              "      <td>5.2</td>\n",
              "      <td>18.606195</td>\n",
              "      <td>18.606195</td>\n",
              "    </tr>\n",
              "    <tr>\n",
              "      <th>2</th>\n",
              "      <td>2016-01-11 17:20:00</td>\n",
              "      <td>50</td>\n",
              "      <td>30</td>\n",
              "      <td>19.89</td>\n",
              "      <td>46.300000</td>\n",
              "      <td>19.2</td>\n",
              "      <td>44.626667</td>\n",
              "      <td>19.79</td>\n",
              "      <td>44.933333</td>\n",
              "      <td>18.926667</td>\n",
              "      <td>...</td>\n",
              "      <td>17.000000</td>\n",
              "      <td>45.50</td>\n",
              "      <td>6.366667</td>\n",
              "      <td>733.7</td>\n",
              "      <td>92.0</td>\n",
              "      <td>6.333333</td>\n",
              "      <td>55.333333</td>\n",
              "      <td>5.1</td>\n",
              "      <td>28.642668</td>\n",
              "      <td>28.642668</td>\n",
              "    </tr>\n",
              "    <tr>\n",
              "      <th>3</th>\n",
              "      <td>2016-01-11 17:30:00</td>\n",
              "      <td>50</td>\n",
              "      <td>40</td>\n",
              "      <td>19.89</td>\n",
              "      <td>46.066667</td>\n",
              "      <td>19.2</td>\n",
              "      <td>44.590000</td>\n",
              "      <td>19.79</td>\n",
              "      <td>45.000000</td>\n",
              "      <td>18.890000</td>\n",
              "      <td>...</td>\n",
              "      <td>17.000000</td>\n",
              "      <td>45.40</td>\n",
              "      <td>6.250000</td>\n",
              "      <td>733.8</td>\n",
              "      <td>92.0</td>\n",
              "      <td>6.000000</td>\n",
              "      <td>51.500000</td>\n",
              "      <td>5.0</td>\n",
              "      <td>45.410389</td>\n",
              "      <td>45.410389</td>\n",
              "    </tr>\n",
              "    <tr>\n",
              "      <th>4</th>\n",
              "      <td>2016-01-11 17:40:00</td>\n",
              "      <td>60</td>\n",
              "      <td>40</td>\n",
              "      <td>19.89</td>\n",
              "      <td>46.333333</td>\n",
              "      <td>19.2</td>\n",
              "      <td>44.530000</td>\n",
              "      <td>19.79</td>\n",
              "      <td>45.000000</td>\n",
              "      <td>18.890000</td>\n",
              "      <td>...</td>\n",
              "      <td>17.000000</td>\n",
              "      <td>45.40</td>\n",
              "      <td>6.133333</td>\n",
              "      <td>733.9</td>\n",
              "      <td>92.0</td>\n",
              "      <td>5.666667</td>\n",
              "      <td>47.666667</td>\n",
              "      <td>4.9</td>\n",
              "      <td>10.084097</td>\n",
              "      <td>10.084097</td>\n",
              "    </tr>\n",
              "  </tbody>\n",
              "</table>\n",
              "<p>5 rows × 29 columns</p>\n",
              "</div>\n",
              "    <div class=\"colab-df-buttons\">\n",
              "\n",
              "  <div class=\"colab-df-container\">\n",
              "    <button class=\"colab-df-convert\" onclick=\"convertToInteractive('df-8f799e20-f78e-4bbf-b46b-cfdfbb6399b2')\"\n",
              "            title=\"Convert this dataframe to an interactive table.\"\n",
              "            style=\"display:none;\">\n",
              "\n",
              "  <svg xmlns=\"http://www.w3.org/2000/svg\" height=\"24px\" viewBox=\"0 -960 960 960\">\n",
              "    <path d=\"M120-120v-720h720v720H120Zm60-500h600v-160H180v160Zm220 220h160v-160H400v160Zm0 220h160v-160H400v160ZM180-400h160v-160H180v160Zm440 0h160v-160H620v160ZM180-180h160v-160H180v160Zm440 0h160v-160H620v160Z\"/>\n",
              "  </svg>\n",
              "    </button>\n",
              "\n",
              "  <style>\n",
              "    .colab-df-container {\n",
              "      display:flex;\n",
              "      gap: 12px;\n",
              "    }\n",
              "\n",
              "    .colab-df-convert {\n",
              "      background-color: #E8F0FE;\n",
              "      border: none;\n",
              "      border-radius: 50%;\n",
              "      cursor: pointer;\n",
              "      display: none;\n",
              "      fill: #1967D2;\n",
              "      height: 32px;\n",
              "      padding: 0 0 0 0;\n",
              "      width: 32px;\n",
              "    }\n",
              "\n",
              "    .colab-df-convert:hover {\n",
              "      background-color: #E2EBFA;\n",
              "      box-shadow: 0px 1px 2px rgba(60, 64, 67, 0.3), 0px 1px 3px 1px rgba(60, 64, 67, 0.15);\n",
              "      fill: #174EA6;\n",
              "    }\n",
              "\n",
              "    .colab-df-buttons div {\n",
              "      margin-bottom: 4px;\n",
              "    }\n",
              "\n",
              "    [theme=dark] .colab-df-convert {\n",
              "      background-color: #3B4455;\n",
              "      fill: #D2E3FC;\n",
              "    }\n",
              "\n",
              "    [theme=dark] .colab-df-convert:hover {\n",
              "      background-color: #434B5C;\n",
              "      box-shadow: 0px 1px 3px 1px rgba(0, 0, 0, 0.15);\n",
              "      filter: drop-shadow(0px 1px 2px rgba(0, 0, 0, 0.3));\n",
              "      fill: #FFFFFF;\n",
              "    }\n",
              "  </style>\n",
              "\n",
              "    <script>\n",
              "      const buttonEl =\n",
              "        document.querySelector('#df-8f799e20-f78e-4bbf-b46b-cfdfbb6399b2 button.colab-df-convert');\n",
              "      buttonEl.style.display =\n",
              "        google.colab.kernel.accessAllowed ? 'block' : 'none';\n",
              "\n",
              "      async function convertToInteractive(key) {\n",
              "        const element = document.querySelector('#df-8f799e20-f78e-4bbf-b46b-cfdfbb6399b2');\n",
              "        const dataTable =\n",
              "          await google.colab.kernel.invokeFunction('convertToInteractive',\n",
              "                                                    [key], {});\n",
              "        if (!dataTable) return;\n",
              "\n",
              "        const docLinkHtml = 'Like what you see? Visit the ' +\n",
              "          '<a target=\"_blank\" href=https://colab.research.google.com/notebooks/data_table.ipynb>data table notebook</a>'\n",
              "          + ' to learn more about interactive tables.';\n",
              "        element.innerHTML = '';\n",
              "        dataTable['output_type'] = 'display_data';\n",
              "        await google.colab.output.renderOutput(dataTable, element);\n",
              "        const docLink = document.createElement('div');\n",
              "        docLink.innerHTML = docLinkHtml;\n",
              "        element.appendChild(docLink);\n",
              "      }\n",
              "    </script>\n",
              "  </div>\n",
              "\n",
              "\n",
              "<div id=\"df-f0ec9192-10a3-4535-b386-0fb097f3745a\">\n",
              "  <button class=\"colab-df-quickchart\" onclick=\"quickchart('df-f0ec9192-10a3-4535-b386-0fb097f3745a')\"\n",
              "            title=\"Suggest charts\"\n",
              "            style=\"display:none;\">\n",
              "\n",
              "<svg xmlns=\"http://www.w3.org/2000/svg\" height=\"24px\"viewBox=\"0 0 24 24\"\n",
              "     width=\"24px\">\n",
              "    <g>\n",
              "        <path d=\"M19 3H5c-1.1 0-2 .9-2 2v14c0 1.1.9 2 2 2h14c1.1 0 2-.9 2-2V5c0-1.1-.9-2-2-2zM9 17H7v-7h2v7zm4 0h-2V7h2v10zm4 0h-2v-4h2v4z\"/>\n",
              "    </g>\n",
              "</svg>\n",
              "  </button>\n",
              "\n",
              "<style>\n",
              "  .colab-df-quickchart {\n",
              "      --bg-color: #E8F0FE;\n",
              "      --fill-color: #1967D2;\n",
              "      --hover-bg-color: #E2EBFA;\n",
              "      --hover-fill-color: #174EA6;\n",
              "      --disabled-fill-color: #AAA;\n",
              "      --disabled-bg-color: #DDD;\n",
              "  }\n",
              "\n",
              "  [theme=dark] .colab-df-quickchart {\n",
              "      --bg-color: #3B4455;\n",
              "      --fill-color: #D2E3FC;\n",
              "      --hover-bg-color: #434B5C;\n",
              "      --hover-fill-color: #FFFFFF;\n",
              "      --disabled-bg-color: #3B4455;\n",
              "      --disabled-fill-color: #666;\n",
              "  }\n",
              "\n",
              "  .colab-df-quickchart {\n",
              "    background-color: var(--bg-color);\n",
              "    border: none;\n",
              "    border-radius: 50%;\n",
              "    cursor: pointer;\n",
              "    display: none;\n",
              "    fill: var(--fill-color);\n",
              "    height: 32px;\n",
              "    padding: 0;\n",
              "    width: 32px;\n",
              "  }\n",
              "\n",
              "  .colab-df-quickchart:hover {\n",
              "    background-color: var(--hover-bg-color);\n",
              "    box-shadow: 0 1px 2px rgba(60, 64, 67, 0.3), 0 1px 3px 1px rgba(60, 64, 67, 0.15);\n",
              "    fill: var(--button-hover-fill-color);\n",
              "  }\n",
              "\n",
              "  .colab-df-quickchart-complete:disabled,\n",
              "  .colab-df-quickchart-complete:disabled:hover {\n",
              "    background-color: var(--disabled-bg-color);\n",
              "    fill: var(--disabled-fill-color);\n",
              "    box-shadow: none;\n",
              "  }\n",
              "\n",
              "  .colab-df-spinner {\n",
              "    border: 2px solid var(--fill-color);\n",
              "    border-color: transparent;\n",
              "    border-bottom-color: var(--fill-color);\n",
              "    animation:\n",
              "      spin 1s steps(1) infinite;\n",
              "  }\n",
              "\n",
              "  @keyframes spin {\n",
              "    0% {\n",
              "      border-color: transparent;\n",
              "      border-bottom-color: var(--fill-color);\n",
              "      border-left-color: var(--fill-color);\n",
              "    }\n",
              "    20% {\n",
              "      border-color: transparent;\n",
              "      border-left-color: var(--fill-color);\n",
              "      border-top-color: var(--fill-color);\n",
              "    }\n",
              "    30% {\n",
              "      border-color: transparent;\n",
              "      border-left-color: var(--fill-color);\n",
              "      border-top-color: var(--fill-color);\n",
              "      border-right-color: var(--fill-color);\n",
              "    }\n",
              "    40% {\n",
              "      border-color: transparent;\n",
              "      border-right-color: var(--fill-color);\n",
              "      border-top-color: var(--fill-color);\n",
              "    }\n",
              "    60% {\n",
              "      border-color: transparent;\n",
              "      border-right-color: var(--fill-color);\n",
              "    }\n",
              "    80% {\n",
              "      border-color: transparent;\n",
              "      border-right-color: var(--fill-color);\n",
              "      border-bottom-color: var(--fill-color);\n",
              "    }\n",
              "    90% {\n",
              "      border-color: transparent;\n",
              "      border-bottom-color: var(--fill-color);\n",
              "    }\n",
              "  }\n",
              "</style>\n",
              "\n",
              "  <script>\n",
              "    async function quickchart(key) {\n",
              "      const quickchartButtonEl =\n",
              "        document.querySelector('#' + key + ' button');\n",
              "      quickchartButtonEl.disabled = true;  // To prevent multiple clicks.\n",
              "      quickchartButtonEl.classList.add('colab-df-spinner');\n",
              "      try {\n",
              "        const charts = await google.colab.kernel.invokeFunction(\n",
              "            'suggestCharts', [key], {});\n",
              "      } catch (error) {\n",
              "        console.error('Error during call to suggestCharts:', error);\n",
              "      }\n",
              "      quickchartButtonEl.classList.remove('colab-df-spinner');\n",
              "      quickchartButtonEl.classList.add('colab-df-quickchart-complete');\n",
              "    }\n",
              "    (() => {\n",
              "      let quickchartButtonEl =\n",
              "        document.querySelector('#df-f0ec9192-10a3-4535-b386-0fb097f3745a button');\n",
              "      quickchartButtonEl.style.display =\n",
              "        google.colab.kernel.accessAllowed ? 'block' : 'none';\n",
              "    })();\n",
              "  </script>\n",
              "</div>\n",
              "\n",
              "    </div>\n",
              "  </div>\n"
            ]
          },
          "metadata": {},
          "execution_count": 9
        }
      ],
      "source": [
        "data.head()"
      ]
    },
    {
      "cell_type": "code",
      "execution_count": 10,
      "metadata": {
        "colab": {
          "base_uri": "https://localhost:8080/"
        },
        "id": "ouzb4MUBOwyJ",
        "outputId": "85b896b1-4441-4a83-e3d3-0147c1cdfa77"
      },
      "outputs": [
        {
          "output_type": "stream",
          "name": "stdout",
          "text": [
            "<class 'pandas.core.frame.DataFrame'>\n",
            "RangeIndex: 19735 entries, 0 to 19734\n",
            "Data columns (total 29 columns):\n",
            " #   Column       Non-Null Count  Dtype  \n",
            "---  ------       --------------  -----  \n",
            " 0   date         19735 non-null  object \n",
            " 1   Appliances   19735 non-null  int64  \n",
            " 2   lights       19735 non-null  int64  \n",
            " 3   T1           19735 non-null  float64\n",
            " 4   RH_1         19735 non-null  float64\n",
            " 5   T2           19735 non-null  float64\n",
            " 6   RH_2         19735 non-null  float64\n",
            " 7   T3           19735 non-null  float64\n",
            " 8   RH_3         19735 non-null  float64\n",
            " 9   T4           19735 non-null  float64\n",
            " 10  RH_4         19735 non-null  float64\n",
            " 11  T5           19735 non-null  float64\n",
            " 12  RH_5         19735 non-null  float64\n",
            " 13  T6           19735 non-null  float64\n",
            " 14  RH_6         19735 non-null  float64\n",
            " 15  T7           19735 non-null  float64\n",
            " 16  RH_7         19735 non-null  float64\n",
            " 17  T8           19735 non-null  float64\n",
            " 18  RH_8         19735 non-null  float64\n",
            " 19  T9           19735 non-null  float64\n",
            " 20  RH_9         19735 non-null  float64\n",
            " 21  T_out        19735 non-null  float64\n",
            " 22  Press_mm_hg  19735 non-null  float64\n",
            " 23  RH_out       19735 non-null  float64\n",
            " 24  Windspeed    19735 non-null  float64\n",
            " 25  Visibility   19735 non-null  float64\n",
            " 26  Tdewpoint    19735 non-null  float64\n",
            " 27  rv1          19735 non-null  float64\n",
            " 28  rv2          19735 non-null  float64\n",
            "dtypes: float64(26), int64(2), object(1)\n",
            "memory usage: 4.4+ MB\n"
          ]
        }
      ],
      "source": [
        "data.info()"
      ]
    },
    {
      "cell_type": "code",
      "execution_count": 11,
      "metadata": {
        "id": "r-zLveSCOwyJ"
      },
      "outputs": [],
      "source": [
        "#Function to convert categorical data to label encoding(We are not using Onehot encoders as the variable is ordinal)\n",
        "def conditions(df):\n",
        "    if (df['Tdewpoint']== 'LDT'):\n",
        "        return 0\n",
        "    elif (df['Tdewpoint']== 'ADT'):\n",
        "        return 1\n",
        "    elif (df['Tdewpoint']== 'NDT'):\n",
        "        return 2\n",
        "    else:\n",
        "        return 3\n",
        "\n",
        "data['Tdewpoint']= data.apply(conditions, axis=1)"
      ]
    },
    {
      "cell_type": "markdown",
      "metadata": {
        "id": "7t0tHU_HOwyJ"
      },
      "source": [
        "# Missing data visualization"
      ]
    },
    {
      "cell_type": "code",
      "execution_count": 8,
      "metadata": {
        "scrolled": false,
        "colab": {
          "base_uri": "https://localhost:8080/",
          "height": 147
        },
        "id": "x7Zt3ASvOwyJ",
        "outputId": "2a9cef19-6b9d-4fde-8385-a73d1d3585fc"
      },
      "outputs": [
        {
          "output_type": "execute_result",
          "data": {
            "text/plain": [
              "                 Date  Appliances  lights  T1  RH_1  T2  RH_2  T3  RH_3  T4  \\\n",
              "records missing     0           0   15252   0     0  85    92   0     0   0   \n",
              "\n",
              "                 ...  T9  RH_9  T_out  Press_mm_hg  RH_out  Windspeed  \\\n",
              "records missing  ...   0     0      0            0       0          0   \n",
              "\n",
              "                 Visibility  Tdewpoint  rv1  rv2  \n",
              "records missing           0          0    0    0  \n",
              "\n",
              "[1 rows x 29 columns]"
            ],
            "text/html": [
              "\n",
              "  <div id=\"df-9f9df22b-2857-402c-88d5-a3e9ad8178ef\" class=\"colab-df-container\">\n",
              "    <div>\n",
              "<style scoped>\n",
              "    .dataframe tbody tr th:only-of-type {\n",
              "        vertical-align: middle;\n",
              "    }\n",
              "\n",
              "    .dataframe tbody tr th {\n",
              "        vertical-align: top;\n",
              "    }\n",
              "\n",
              "    .dataframe thead th {\n",
              "        text-align: right;\n",
              "    }\n",
              "</style>\n",
              "<table border=\"1\" class=\"dataframe\">\n",
              "  <thead>\n",
              "    <tr style=\"text-align: right;\">\n",
              "      <th></th>\n",
              "      <th>Date</th>\n",
              "      <th>Appliances</th>\n",
              "      <th>lights</th>\n",
              "      <th>T1</th>\n",
              "      <th>RH_1</th>\n",
              "      <th>T2</th>\n",
              "      <th>RH_2</th>\n",
              "      <th>T3</th>\n",
              "      <th>RH_3</th>\n",
              "      <th>T4</th>\n",
              "      <th>...</th>\n",
              "      <th>T9</th>\n",
              "      <th>RH_9</th>\n",
              "      <th>T_out</th>\n",
              "      <th>Press_mm_hg</th>\n",
              "      <th>RH_out</th>\n",
              "      <th>Windspeed</th>\n",
              "      <th>Visibility</th>\n",
              "      <th>Tdewpoint</th>\n",
              "      <th>rv1</th>\n",
              "      <th>rv2</th>\n",
              "    </tr>\n",
              "  </thead>\n",
              "  <tbody>\n",
              "    <tr>\n",
              "      <th>records missing</th>\n",
              "      <td>0</td>\n",
              "      <td>0</td>\n",
              "      <td>15252</td>\n",
              "      <td>0</td>\n",
              "      <td>0</td>\n",
              "      <td>85</td>\n",
              "      <td>92</td>\n",
              "      <td>0</td>\n",
              "      <td>0</td>\n",
              "      <td>0</td>\n",
              "      <td>...</td>\n",
              "      <td>0</td>\n",
              "      <td>0</td>\n",
              "      <td>0</td>\n",
              "      <td>0</td>\n",
              "      <td>0</td>\n",
              "      <td>0</td>\n",
              "      <td>0</td>\n",
              "      <td>0</td>\n",
              "      <td>0</td>\n",
              "      <td>0</td>\n",
              "    </tr>\n",
              "  </tbody>\n",
              "</table>\n",
              "<p>1 rows × 29 columns</p>\n",
              "</div>\n",
              "    <div class=\"colab-df-buttons\">\n",
              "\n",
              "  <div class=\"colab-df-container\">\n",
              "    <button class=\"colab-df-convert\" onclick=\"convertToInteractive('df-9f9df22b-2857-402c-88d5-a3e9ad8178ef')\"\n",
              "            title=\"Convert this dataframe to an interactive table.\"\n",
              "            style=\"display:none;\">\n",
              "\n",
              "  <svg xmlns=\"http://www.w3.org/2000/svg\" height=\"24px\" viewBox=\"0 -960 960 960\">\n",
              "    <path d=\"M120-120v-720h720v720H120Zm60-500h600v-160H180v160Zm220 220h160v-160H400v160Zm0 220h160v-160H400v160ZM180-400h160v-160H180v160Zm440 0h160v-160H620v160ZM180-180h160v-160H180v160Zm440 0h160v-160H620v160Z\"/>\n",
              "  </svg>\n",
              "    </button>\n",
              "\n",
              "  <style>\n",
              "    .colab-df-container {\n",
              "      display:flex;\n",
              "      gap: 12px;\n",
              "    }\n",
              "\n",
              "    .colab-df-convert {\n",
              "      background-color: #E8F0FE;\n",
              "      border: none;\n",
              "      border-radius: 50%;\n",
              "      cursor: pointer;\n",
              "      display: none;\n",
              "      fill: #1967D2;\n",
              "      height: 32px;\n",
              "      padding: 0 0 0 0;\n",
              "      width: 32px;\n",
              "    }\n",
              "\n",
              "    .colab-df-convert:hover {\n",
              "      background-color: #E2EBFA;\n",
              "      box-shadow: 0px 1px 2px rgba(60, 64, 67, 0.3), 0px 1px 3px 1px rgba(60, 64, 67, 0.15);\n",
              "      fill: #174EA6;\n",
              "    }\n",
              "\n",
              "    .colab-df-buttons div {\n",
              "      margin-bottom: 4px;\n",
              "    }\n",
              "\n",
              "    [theme=dark] .colab-df-convert {\n",
              "      background-color: #3B4455;\n",
              "      fill: #D2E3FC;\n",
              "    }\n",
              "\n",
              "    [theme=dark] .colab-df-convert:hover {\n",
              "      background-color: #434B5C;\n",
              "      box-shadow: 0px 1px 3px 1px rgba(0, 0, 0, 0.15);\n",
              "      filter: drop-shadow(0px 1px 2px rgba(0, 0, 0, 0.3));\n",
              "      fill: #FFFFFF;\n",
              "    }\n",
              "  </style>\n",
              "\n",
              "    <script>\n",
              "      const buttonEl =\n",
              "        document.querySelector('#df-9f9df22b-2857-402c-88d5-a3e9ad8178ef button.colab-df-convert');\n",
              "      buttonEl.style.display =\n",
              "        google.colab.kernel.accessAllowed ? 'block' : 'none';\n",
              "\n",
              "      async function convertToInteractive(key) {\n",
              "        const element = document.querySelector('#df-9f9df22b-2857-402c-88d5-a3e9ad8178ef');\n",
              "        const dataTable =\n",
              "          await google.colab.kernel.invokeFunction('convertToInteractive',\n",
              "                                                    [key], {});\n",
              "        if (!dataTable) return;\n",
              "\n",
              "        const docLinkHtml = 'Like what you see? Visit the ' +\n",
              "          '<a target=\"_blank\" href=https://colab.research.google.com/notebooks/data_table.ipynb>data table notebook</a>'\n",
              "          + ' to learn more about interactive tables.';\n",
              "        element.innerHTML = '';\n",
              "        dataTable['output_type'] = 'display_data';\n",
              "        await google.colab.output.renderOutput(dataTable, element);\n",
              "        const docLink = document.createElement('div');\n",
              "        docLink.innerHTML = docLinkHtml;\n",
              "        element.appendChild(docLink);\n",
              "      }\n",
              "    </script>\n",
              "  </div>\n",
              "\n",
              "\n",
              "    </div>\n",
              "  </div>\n"
            ]
          },
          "metadata": {},
          "execution_count": 8
        }
      ],
      "source": [
        "pd.DataFrame(data.isna().sum(), columns=[\"records missing\"]).T"
      ]
    },
    {
      "cell_type": "code",
      "execution_count": 9,
      "metadata": {
        "colab": {
          "base_uri": "https://localhost:8080/",
          "height": 1000
        },
        "id": "paFsJIlwOwyJ",
        "outputId": "a464411e-97b5-46db-8449-f752f4ef464c"
      },
      "outputs": [
        {
          "output_type": "execute_result",
          "data": {
            "text/plain": [
              "<Axes: >"
            ]
          },
          "metadata": {},
          "execution_count": 9
        },
        {
          "output_type": "display_data",
          "data": {
            "text/plain": [
              "<Figure size 2000x2000 with 2 Axes>"
            ],
            "image/png": "[encoded data removed]"
          },
          "metadata": {}
        }
      ],
      "source": [
        "mno.matrix(data, figsize = (20, 20))"
      ]
    },
    {
      "cell_type": "code",
      "execution_count": 10,
      "metadata": {
        "id": "BK_9GyS7OwyK"
      },
      "outputs": [],
      "source": [
        "data= data.drop('lights', axis=1)"
      ]
    },
    {
      "cell_type": "code",
      "execution_count": 11,
      "metadata": {
        "id": "9KLraUv8OwyK"
      },
      "outputs": [],
      "source": [
        "data= data.drop('Date', axis=1)"
      ]
    },
    {
      "cell_type": "markdown",
      "metadata": {
        "id": "61MUMezGOwyK"
      },
      "source": [
        "Date dropping reason: As we are not trying to analyze the problem as Time Series rather regress on \"Appliance\" column."
      ]
    },
    {
      "cell_type": "markdown",
      "metadata": {
        "id": "XTVNUPfLOwyK"
      },
      "source": [
        "# Imputation using Missingpy package!!"
      ]
    },
    {
      "cell_type": "code",
      "execution_count": 12,
      "metadata": {
        "scrolled": true,
        "colab": {
          "base_uri": "https://localhost:8080/",
          "height": 214
        },
        "id": "46nVd8S0OwyK",
        "outputId": "21006c21-ee5d-47f2-8159-4ada495c0cbd"
      },
      "outputs": [
        {
          "output_type": "error",
          "ename": "NameError",
          "evalue": "name 'KNNImputer' is not defined",
          "traceback": [
            "\u001b[0;31m---------------------------------------------------------------------------\u001b[0m",
            "\u001b[0;31mNameError\u001b[0m                                 Traceback (most recent call last)",
            "\u001b[0;32m<ipython-input-12-799d2bf19c89>\u001b[0m in \u001b[0;36m<cell line: 1>\u001b[0;34m()\u001b[0m\n\u001b[0;32m----> 1\u001b[0;31m imputer = KNNImputer(missing_values=\"NaN\", n_neighbors=5, weights=\"uniform\",\n\u001b[0m\u001b[1;32m      2\u001b[0m                      metric=\"masked_euclidean\",)\n\u001b[1;32m      3\u001b[0m \u001b[0mdata_new\u001b[0m \u001b[0;34m=\u001b[0m \u001b[0mimputer\u001b[0m\u001b[0;34m.\u001b[0m\u001b[0mfit_transform\u001b[0m\u001b[0;34m(\u001b[0m\u001b[0mdata\u001b[0m\u001b[0;34m)\u001b[0m\u001b[0;34m\u001b[0m\u001b[0;34m\u001b[0m\u001b[0m\n",
            "\u001b[0;31mNameError\u001b[0m: name 'KNNImputer' is not defined"
          ]
        }
      ],
      "source": [
        "imputer = KNNImputer(missing_values=\"NaN\", n_neighbors=5, weights=\"uniform\",\n",
        "                     metric=\"masked_euclidean\",)\n",
        "data_new = imputer.fit_transform(data)"
      ]
    },
    {
      "cell_type": "code",
      "execution_count": 13,
      "metadata": {
        "colab": {
          "base_uri": "https://localhost:8080/",
          "height": 197
        },
        "id": "u4WKgC3rOwyL",
        "outputId": "dbca37af-c028-456e-8bed-f4d0b636e15b"
      },
      "outputs": [
        {
          "output_type": "error",
          "ename": "NameError",
          "evalue": "name 'data_new' is not defined",
          "traceback": [
            "\u001b[0;31m---------------------------------------------------------------------------\u001b[0m",
            "\u001b[0;31mNameError\u001b[0m                                 Traceback (most recent call last)",
            "\u001b[0;32m<ipython-input-13-eb26e8403a80>\u001b[0m in \u001b[0;36m<cell line: 1>\u001b[0;34m()\u001b[0m\n\u001b[0;32m----> 1\u001b[0;31m \u001b[0mdata_new\u001b[0m\u001b[0;34m=\u001b[0m \u001b[0mpd\u001b[0m\u001b[0;34m.\u001b[0m\u001b[0mDataFrame\u001b[0m\u001b[0;34m(\u001b[0m\u001b[0mdata_new\u001b[0m\u001b[0;34m)\u001b[0m\u001b[0;34m\u001b[0m\u001b[0;34m\u001b[0m\u001b[0m\n\u001b[0m\u001b[1;32m      2\u001b[0m \u001b[0mdata_new\u001b[0m\u001b[0;34m.\u001b[0m\u001b[0mcolumns\u001b[0m\u001b[0;34m=\u001b[0m \u001b[0mdata\u001b[0m\u001b[0;34m.\u001b[0m\u001b[0mcolumns\u001b[0m\u001b[0;34m\u001b[0m\u001b[0;34m\u001b[0m\u001b[0m\n",
            "\u001b[0;31mNameError\u001b[0m: name 'data_new' is not defined"
          ]
        }
      ],
      "source": [
        "data_new= pd.DataFrame(data_new)\n",
        "data_new.columns= data.columns"
      ]
    },
    {
      "cell_type": "code",
      "execution_count": 14,
      "metadata": {
        "scrolled": true,
        "colab": {
          "base_uri": "https://localhost:8080/",
          "height": 179
        },
        "id": "pCFAf5sQOwyL",
        "outputId": "567a829f-5ef3-4fc6-a7b7-bd418f75bec7"
      },
      "outputs": [
        {
          "output_type": "error",
          "ename": "NameError",
          "evalue": "name 'data_new' is not defined",
          "traceback": [
            "\u001b[0;31m---------------------------------------------------------------------------\u001b[0m",
            "\u001b[0;31mNameError\u001b[0m                                 Traceback (most recent call last)",
            "\u001b[0;32m<ipython-input-14-3df3a3b5a5fc>\u001b[0m in \u001b[0;36m<cell line: 1>\u001b[0;34m()\u001b[0m\n\u001b[0;32m----> 1\u001b[0;31m \u001b[0mpd\u001b[0m\u001b[0;34m.\u001b[0m\u001b[0mDataFrame\u001b[0m\u001b[0;34m(\u001b[0m\u001b[0mdata_new\u001b[0m\u001b[0;34m.\u001b[0m\u001b[0misna\u001b[0m\u001b[0;34m(\u001b[0m\u001b[0;34m)\u001b[0m\u001b[0;34m.\u001b[0m\u001b[0msum\u001b[0m\u001b[0;34m(\u001b[0m\u001b[0;34m)\u001b[0m\u001b[0;34m,\u001b[0m \u001b[0mcolumns\u001b[0m\u001b[0;34m=\u001b[0m\u001b[0;34m[\u001b[0m\u001b[0;34m\"records missing\"\u001b[0m\u001b[0;34m]\u001b[0m\u001b[0;34m)\u001b[0m\u001b[0;34m.\u001b[0m\u001b[0mT\u001b[0m\u001b[0;34m\u001b[0m\u001b[0;34m\u001b[0m\u001b[0m\n\u001b[0m",
            "\u001b[0;31mNameError\u001b[0m: name 'data_new' is not defined"
          ]
        }
      ],
      "source": [
        "pd.DataFrame(data_new.isna().sum(), columns=[\"records missing\"]).T"
      ]
    },
    {
      "cell_type": "code",
      "execution_count": null,
      "metadata": {
        "scrolled": true,
        "id": "nGsjlvQsOwyL",
        "outputId": "d2a8086f-f421-4461-ae85-da25cd65b986"
      },
      "outputs": [
        {
          "data": {
            "text/plain": [
              "<matplotlib.axes._subplots.AxesSubplot at 0x205d850b710>"
            ]
          },
          "execution_count": 13,
          "metadata": {},
          "output_type": "execute_result"
        },
        {
          "data": {
            "image/png": "[encoded data removed]",
            "text/plain": [
              "<Figure size 1440x1440 with 2 Axes>"
            ]
          },
          "metadata": {},
          "output_type": "display_data"
        }
      ],
      "source": [
        "mno.matrix(data_new, figsize = (20, 20))"
      ]
    },
    {
      "cell_type": "markdown",
      "metadata": {
        "id": "BWCkCohiOwyL"
      },
      "source": [
        "We can see all the missing data has been replaced with Imputed data!!"
      ]
    },
    {
      "cell_type": "markdown",
      "metadata": {
        "id": "0iu0-Tu8OwyL"
      },
      "source": [
        "# Data Visualization"
      ]
    },
    {
      "cell_type": "code",
      "execution_count": 12,
      "metadata": {
        "id": "D13eJyGzOwyL"
      },
      "outputs": [],
      "source": [
        "## Divide the columns based on type for clear column management\n",
        "\n",
        "col_temp = [\"T1\",\"T2\",\"T3\",\"T4\",\"T5\",\"T6\",\"T7\",\"T8\",\"T9\"]\n",
        "\n",
        "col_hum = [\"RH_1\",\"RH_2\",\"RH_3\",\"RH_4\",\"RH_5\",\"RH_6\",\"RH_7\",\"RH_8\",\"RH_9\"]\n",
        "\n",
        "col_weather = [\"T_out\", \"Tdewpoint\",\"RH_out\",\"Press_mm_hg\",\n",
        "                \"Windspeed\",\"Visibility\"]\n",
        "\n",
        "col_randoms = [\"rv1\", \"rv2\"]\n",
        "\n",
        "col_target = [\"Appliances\"]"
      ]
    },
    {
      "cell_type": "code",
      "execution_count": 14,
      "metadata": {
        "colab": {
          "base_uri": "https://localhost:8080/",
          "height": 214
        },
        "id": "c4mNGWyxOwyL",
        "outputId": "731b99dd-5e3e-4545-f0d3-3c0374f905bb"
      },
      "outputs": [
        {
          "output_type": "error",
          "ename": "NameError",
          "evalue": "name 'data_new' is not defined",
          "traceback": [
            "\u001b[0;31m---------------------------------------------------------------------------\u001b[0m",
            "\u001b[0;31mNameError\u001b[0m                                 Traceback (most recent call last)",
            "\u001b[0;32m<ipython-input-14-b7f202145dd6>\u001b[0m in \u001b[0;36m<cell line: 2>\u001b[0;34m()\u001b[0m\n\u001b[1;32m      1\u001b[0m \u001b[0;31m# Seperate dependent and independent variables\u001b[0m\u001b[0;34m\u001b[0m\u001b[0;34m\u001b[0m\u001b[0m\n\u001b[0;32m----> 2\u001b[0;31m \u001b[0mfeature_vars\u001b[0m \u001b[0;34m=\u001b[0m \u001b[0mdata_new\u001b[0m\u001b[0;34m[\u001b[0m\u001b[0mcol_temp\u001b[0m \u001b[0;34m+\u001b[0m \u001b[0mcol_hum\u001b[0m \u001b[0;34m+\u001b[0m \u001b[0mcol_weather\u001b[0m \u001b[0;34m+\u001b[0m \u001b[0mcol_randoms\u001b[0m\u001b[0;34m]\u001b[0m\u001b[0;34m\u001b[0m\u001b[0;34m\u001b[0m\u001b[0m\n\u001b[0m\u001b[1;32m      3\u001b[0m \u001b[0mtarget_vars\u001b[0m \u001b[0;34m=\u001b[0m \u001b[0mdata_new\u001b[0m\u001b[0;34m[\u001b[0m\u001b[0mcol_target\u001b[0m\u001b[0;34m]\u001b[0m\u001b[0;34m\u001b[0m\u001b[0;34m\u001b[0m\u001b[0m\n",
            "\u001b[0;31mNameError\u001b[0m: name 'data_new' is not defined"
          ]
        }
      ],
      "source": [
        "# Seperate dependent and independent variables\n",
        "feature_vars = data_new[col_temp + col_hum + col_weather + col_randoms]\n",
        "target_vars = data_new[col_target]"
      ]
    },
    {
      "cell_type": "code",
      "execution_count": 17,
      "metadata": {
        "colab": {
          "base_uri": "https://localhost:8080/",
          "height": 179
        },
        "id": "kVVFhOphOwyL",
        "outputId": "55ca1b0d-6b3e-40b0-9dbc-12048f3b69d4"
      },
      "outputs": [
        {
          "output_type": "error",
          "ename": "NameError",
          "evalue": "name 'feature_vars' is not defined",
          "traceback": [
            "\u001b[0;31m---------------------------------------------------------------------------\u001b[0m",
            "\u001b[0;31mNameError\u001b[0m                                 Traceback (most recent call last)",
            "\u001b[0;32m<ipython-input-17-37ef0e1e23be>\u001b[0m in \u001b[0;36m<cell line: 1>\u001b[0;34m()\u001b[0m\n\u001b[0;32m----> 1\u001b[0;31m \u001b[0mfeature_vars\u001b[0m\u001b[0;34m.\u001b[0m\u001b[0mdescribe\u001b[0m\u001b[0;34m(\u001b[0m\u001b[0;34m)\u001b[0m\u001b[0;34m\u001b[0m\u001b[0;34m\u001b[0m\u001b[0m\n\u001b[0m",
            "\u001b[0;31mNameError\u001b[0m: name 'feature_vars' is not defined"
          ]
        }
      ],
      "source": [
        "feature_vars.describe()"
      ]
    },
    {
      "cell_type": "code",
      "execution_count": null,
      "metadata": {
        "id": "wrIUm976OwyL",
        "outputId": "53d751f5-dc5f-46b3-c1ba-7671fa044446"
      },
      "outputs": [
        {
          "data": {
            "text/html": [
              "<div>\n",
              "<style scoped>\n",
              "    .dataframe tbody tr th:only-of-type {\n",
              "        vertical-align: middle;\n",
              "    }\n",
              "\n",
              "    .dataframe tbody tr th {\n",
              "        vertical-align: top;\n",
              "    }\n",
              "\n",
              "    .dataframe thead th {\n",
              "        text-align: right;\n",
              "    }\n",
              "</style>\n",
              "<table border=\"1\" class=\"dataframe\">\n",
              "  <thead>\n",
              "    <tr style=\"text-align: right;\">\n",
              "      <th></th>\n",
              "      <th>Appliances</th>\n",
              "    </tr>\n",
              "  </thead>\n",
              "  <tbody>\n",
              "    <tr>\n",
              "      <th>count</th>\n",
              "      <td>19735.000000</td>\n",
              "    </tr>\n",
              "    <tr>\n",
              "      <th>mean</th>\n",
              "      <td>97.694958</td>\n",
              "    </tr>\n",
              "    <tr>\n",
              "      <th>std</th>\n",
              "      <td>102.524891</td>\n",
              "    </tr>\n",
              "    <tr>\n",
              "      <th>min</th>\n",
              "      <td>10.000000</td>\n",
              "    </tr>\n",
              "    <tr>\n",
              "      <th>25%</th>\n",
              "      <td>50.000000</td>\n",
              "    </tr>\n",
              "    <tr>\n",
              "      <th>50%</th>\n",
              "      <td>60.000000</td>\n",
              "    </tr>\n",
              "    <tr>\n",
              "      <th>75%</th>\n",
              "      <td>100.000000</td>\n",
              "    </tr>\n",
              "    <tr>\n",
              "      <th>max</th>\n",
              "      <td>1080.000000</td>\n",
              "    </tr>\n",
              "  </tbody>\n",
              "</table>\n",
              "</div>"
            ],
            "text/plain": [
              "         Appliances\n",
              "count  19735.000000\n",
              "mean      97.694958\n",
              "std      102.524891\n",
              "min       10.000000\n",
              "25%       50.000000\n",
              "50%       60.000000\n",
              "75%      100.000000\n",
              "max     1080.000000"
            ]
          },
          "execution_count": 17,
          "metadata": {},
          "output_type": "execute_result"
        }
      ],
      "source": [
        "target_vars.describe()"
      ]
    },
    {
      "cell_type": "code",
      "execution_count": 15,
      "metadata": {
        "scrolled": false,
        "colab": {
          "base_uri": "https://localhost:8080/",
          "height": 197
        },
        "id": "vy-yZ-jlOwyL",
        "outputId": "324fe608-7050-4125-d46b-6f20a5efa1cb"
      },
      "outputs": [
        {
          "output_type": "error",
          "ename": "NameError",
          "evalue": "name 'feature_vars' is not defined",
          "traceback": [
            "\u001b[0;31m---------------------------------------------------------------------------\u001b[0m",
            "\u001b[0;31mNameError\u001b[0m                                 Traceback (most recent call last)",
            "\u001b[0;32m<ipython-input-15-897f883ae4e9>\u001b[0m in \u001b[0;36m<cell line: 2>\u001b[0;34m()\u001b[0m\n\u001b[1;32m      1\u001b[0m \u001b[0;31m# Histogram of all the features to understand the distribution\u001b[0m\u001b[0;34m\u001b[0m\u001b[0;34m\u001b[0m\u001b[0m\n\u001b[0;32m----> 2\u001b[0;31m \u001b[0mfeature_vars\u001b[0m\u001b[0;34m.\u001b[0m\u001b[0mhist\u001b[0m\u001b[0;34m(\u001b[0m\u001b[0mbins\u001b[0m \u001b[0;34m=\u001b[0m \u001b[0;36m20\u001b[0m \u001b[0;34m,\u001b[0m \u001b[0mfigsize\u001b[0m\u001b[0;34m=\u001b[0m \u001b[0;34m(\u001b[0m\u001b[0;36m12\u001b[0m\u001b[0;34m,\u001b[0m\u001b[0;36m16\u001b[0m\u001b[0;34m)\u001b[0m\u001b[0;34m)\u001b[0m \u001b[0;34m;\u001b[0m\u001b[0;34m\u001b[0m\u001b[0;34m\u001b[0m\u001b[0m\n\u001b[0m",
            "\u001b[0;31mNameError\u001b[0m: name 'feature_vars' is not defined"
          ]
        }
      ],
      "source": [
        "# Histogram of all the features to understand the distribution\n",
        "feature_vars.hist(bins = 20 , figsize= (12,16)) ;"
      ]
    },
    {
      "cell_type": "markdown",
      "metadata": {
        "id": "j3crYgLzOwyL"
      },
      "source": [
        "Focussed displots for RH_6 , RH_out , Visibility , Windspeed due to irregular distribution.\n",
        "\n",
        "Using Plotly helps us visualize data better as it allows us to interact with the plot like zoom in to the distribution and hover around to locate the values corresponding to axis value"
      ]
    },
    {
      "cell_type": "code",
      "execution_count": 16,
      "metadata": {
        "scrolled": true,
        "colab": {
          "base_uri": "https://localhost:8080/",
          "height": 250
        },
        "id": "kWmxkxifOwyM",
        "outputId": "9f753ac9-779f-427b-c5cc-69d6f7e8bd8b"
      },
      "outputs": [
        {
          "output_type": "error",
          "ename": "NameError",
          "evalue": "name 'feature_vars' is not defined",
          "traceback": [
            "\u001b[0;31m---------------------------------------------------------------------------\u001b[0m",
            "\u001b[0;31mNameError\u001b[0m                                 Traceback (most recent call last)",
            "\u001b[0;32m<ipython-input-16-dc061a41884c>\u001b[0m in \u001b[0;36m<cell line: 1>\u001b[0;34m()\u001b[0m\n\u001b[0;32m----> 1\u001b[0;31m \u001b[0mhist_data\u001b[0m\u001b[0;34m=\u001b[0m \u001b[0;34m[\u001b[0m\u001b[0;34m(\u001b[0m\u001b[0mfeature_vars\u001b[0m\u001b[0;34m[\u001b[0m\u001b[0;34m'RH_6'\u001b[0m\u001b[0;34m]\u001b[0m\u001b[0;34m)\u001b[0m\u001b[0;34m.\u001b[0m\u001b[0mvalues\u001b[0m\u001b[0;34m,\u001b[0m \u001b[0;34m(\u001b[0m\u001b[0mfeature_vars\u001b[0m\u001b[0;34m[\u001b[0m\u001b[0;34m'RH_out'\u001b[0m\u001b[0;34m]\u001b[0m\u001b[0;34m)\u001b[0m\u001b[0;34m.\u001b[0m\u001b[0mvalues\u001b[0m\u001b[0;34m]\u001b[0m\u001b[0;34m\u001b[0m\u001b[0;34m\u001b[0m\u001b[0m\n\u001b[0m\u001b[1;32m      2\u001b[0m \u001b[0mgroup_labels\u001b[0m\u001b[0;34m=\u001b[0m \u001b[0;34m[\u001b[0m\u001b[0;34m'RH_6'\u001b[0m\u001b[0;34m,\u001b[0m\u001b[0;34m'RH_out'\u001b[0m\u001b[0;34m]\u001b[0m\u001b[0;34m\u001b[0m\u001b[0;34m\u001b[0m\u001b[0m\n\u001b[1;32m      3\u001b[0m \u001b[0mfig\u001b[0m\u001b[0;34m=\u001b[0m \u001b[0mff\u001b[0m\u001b[0;34m.\u001b[0m\u001b[0mcreate_distplot\u001b[0m\u001b[0;34m(\u001b[0m\u001b[0mhist_data\u001b[0m\u001b[0;34m,\u001b[0m \u001b[0mgroup_labels\u001b[0m\u001b[0;34m)\u001b[0m\u001b[0;34m\u001b[0m\u001b[0;34m\u001b[0m\u001b[0m\n\u001b[1;32m      4\u001b[0m \u001b[0mpy\u001b[0m\u001b[0;34m.\u001b[0m\u001b[0mplot\u001b[0m\u001b[0;34m(\u001b[0m\u001b[0mfig\u001b[0m\u001b[0;34m)\u001b[0m\u001b[0;34m\u001b[0m\u001b[0;34m\u001b[0m\u001b[0m\n\u001b[1;32m      5\u001b[0m \u001b[0;31m#iplot(fig) #Prints the interactive plot in Jupyter notebook\u001b[0m\u001b[0;34m\u001b[0m\u001b[0;34m\u001b[0m\u001b[0m\n",
            "\u001b[0;31mNameError\u001b[0m: name 'feature_vars' is not defined"
          ]
        }
      ],
      "source": [
        "hist_data= [(feature_vars['RH_6']).values, (feature_vars['RH_out']).values]\n",
        "group_labels= ['RH_6','RH_out']\n",
        "fig= ff.create_distplot(hist_data, group_labels)\n",
        "py.plot(fig)\n",
        "#iplot(fig) #Prints the interactive plot in Jupyter notebook\n",
        "hist_data1= [(feature_vars['Visibility']).values, (feature_vars['Windspeed']).values]\n",
        "group_labels1= ['Visibility','Windspeed']\n",
        "fig1= ff.create_distplot(hist_data1, group_labels1)\n",
        "py.plot(fig1)\n",
        "#iplot(fig1) #Prints the interactive plot in Jupyter notebook"
      ]
    },
    {
      "cell_type": "code",
      "execution_count": 19,
      "metadata": {
        "scrolled": true,
        "colab": {
          "base_uri": "https://localhost:8080/",
          "height": 197
        },
        "id": "XmOln4wgOwyM",
        "outputId": "de63daeb-4c16-47bd-ec21-582e1da0ed7b"
      },
      "outputs": [
        {
          "output_type": "error",
          "ename": "NameError",
          "evalue": "name 'target_vars' is not defined",
          "traceback": [
            "\u001b[0;31m---------------------------------------------------------------------------\u001b[0m",
            "\u001b[0;31mNameError\u001b[0m                                 Traceback (most recent call last)",
            "\u001b[0;32m<ipython-input-19-45964f8246cd>\u001b[0m in \u001b[0;36m<cell line: 2>\u001b[0;34m()\u001b[0m\n\u001b[1;32m      1\u001b[0m \u001b[0;31m#Distribution of values in Applainces column\u001b[0m\u001b[0;34m\u001b[0m\u001b[0;34m\u001b[0m\u001b[0m\n\u001b[0;32m----> 2\u001b[0;31m \u001b[0mtarget_vars\u001b[0m\u001b[0;34m.\u001b[0m\u001b[0mhist\u001b[0m\u001b[0;34m(\u001b[0m\u001b[0;34m)\u001b[0m\u001b[0;34m\u001b[0m\u001b[0;34m\u001b[0m\u001b[0m\n\u001b[0m",
            "\u001b[0;31mNameError\u001b[0m: name 'target_vars' is not defined"
          ]
        }
      ],
      "source": [
        "#Distribution of values in Applainces column\n",
        "target_vars.hist()"
      ]
    },
    {
      "cell_type": "markdown",
      "metadata": {
        "id": "E9i6pVe7OwyM"
      },
      "source": [
        "# Observations:\n",
        "\n",
        "1. Almost all Temperature variable follows \"Normal Distribution\".\n",
        "2. Almost all Humidity variable follows \"Normal Distribution\" except RH_Out and RH_6, may be because they were placed outside      the house\n",
        "3. RH_6 has a quite substatial values in bin[1-1.990] which could be rading from summer months(april/may) of data(Jan-June)\n",
        "4. Windspeed column is postively skewed & RH_out is negatively skewed\n",
        "5. RH_out, Windspeed & Visibility contains outliers\n",
        "6. Appliance column is postively skewed with most of the values around mean 100 Wh"
      ]
    },
    {
      "cell_type": "markdown",
      "metadata": {
        "id": "FKV8jfP2OwyM"
      },
      "source": [
        "# Data Preprocessing\n",
        "\n",
        " Data Scaling: Using Standard Scaler for scaling as some of the columns contains outliers and min_max are very sensitive to outiers"
      ]
    },
    {
      "cell_type": "code",
      "execution_count": null,
      "metadata": {
        "id": "AtkHSuV6OwyM"
      },
      "outputs": [],
      "source": [
        "# I took a sbupart of the data for analysis as it was giving memory error and was very slow for such large dataset\n",
        "x= feature_vars.iloc[:1200,:]\n",
        "y= target_vars.iloc[:1200,:]\n",
        "\n",
        "scaler= StandardScaler()\n",
        "x=scaler.fit_transform(x)"
      ]
    },
    {
      "cell_type": "code",
      "execution_count": null,
      "metadata": {
        "id": "K0PenVJUOwyM"
      },
      "outputs": [],
      "source": [
        "x_train, x_test, y_train, y_test= train_test_split(x,y, random_state=0)"
      ]
    },
    {
      "cell_type": "code",
      "execution_count": null,
      "metadata": {
        "id": "Rfr9Hsw_OwyM"
      },
      "outputs": [],
      "source": [
        "compiled= pd.DataFrame(columns= ['Regressor', 'Avg_Train_Score', 'Avg_Test_Score', 'RMSE_Best_Param', 'Best_Hyperparameters'])"
      ]
    },
    {
      "cell_type": "markdown",
      "metadata": {
        "id": "E6eQO_DBOwyM"
      },
      "source": [
        "# Model Implemented\n",
        "\n",
        "We will be looking at following Algorithms\n",
        "\n",
        "Linear regression model\n",
        "\n",
        "Improved Linear regression models\n",
        "1. Ridge regression\n",
        "2. Lasso regression\n",
        "3. Poynomial regression\n",
        "\n",
        "\n",
        "Logistic regression\n",
        "\n",
        "Support vector regression\n",
        "1. Simple\n",
        "2. rbf\n",
        "3. Poly\n",
        "4. Linear\n",
        "\n",
        "K Nearest NeighborsRegressor\n",
        "\n",
        "Decision Tree regressor\n",
        "\n",
        "# Model Evaluation Technique\n",
        "K-fold Cross Validation: For following reason\n",
        "1. As the data set in consideration is not small, computation time will be higher in LOOC.\n",
        "2. Reduced Bias\n",
        "3. Variance of resulting estimate can be reduced by increasing K value\n",
        "\n",
        "# Model Evaluation Metrics\n",
        "Used Train, Test score and RMSEvto find the best parameters for Grid_Search and then select the best model out of them."
      ]
    },
    {
      "cell_type": "markdown",
      "metadata": {
        "id": "dTLq3IUsOwyM"
      },
      "source": [
        "# Linear Regression model"
      ]
    },
    {
      "cell_type": "code",
      "execution_count": null,
      "metadata": {
        "id": "mtjVuZ3UOwyM",
        "outputId": "681b81b2-cc73-425d-c620-2f30a8a0769c"
      },
      "outputs": [
        {
          "name": "stdout",
          "output_type": "stream",
          "text": [
            "Train score for Linear regression model without using Kfold validation is: 0.22314897240155618\n",
            "Train score for Linear regression model using 10Fold cross validation is:  0.13645371693622851\n",
            "Test score for Linear regression model using 10Fold cross validation is:  0.025437005586257565\n"
          ]
        }
      ],
      "source": [
        "lreg= LinearRegression()\n",
        "lreg.fit(x_train, y_train)\n",
        "print(f'Train score for Linear regression model without using Kfold validation is: {lreg.score(x_train, y_train)}')\n",
        "\n",
        "train_scores= cross_val_score(lreg,x_train,y_train, cv=10)\n",
        "print(f'Train score for Linear regression model using 10Fold cross validation is:  {train_scores.mean()}')\n",
        "test_scores= cross_val_score(lreg,x_test,y_test, cv=10)\n",
        "print(f'Test score for Linear regression model using 10Fold cross validation is:  {test_scores.mean()}')"
      ]
    },
    {
      "cell_type": "code",
      "execution_count": null,
      "metadata": {
        "id": "pN5oayKwOwyM",
        "outputId": "dfa29cd2-185e-4513-b183-c5b4a4ef7eed"
      },
      "outputs": [
        {
          "name": "stdout",
          "output_type": "stream",
          "text": [
            "RMSE for Linear regression model using 10Fold cross validation is: -14773.423567754042\n"
          ]
        }
      ],
      "source": [
        "mse= cross_val_score(lreg, x_train, y_train, scoring=\"neg_mean_squared_error\", cv=10)\n",
        "print(f'RMSE for Linear regression model using 10Fold cross validation is: {mse.mean()}')"
      ]
    },
    {
      "cell_type": "code",
      "execution_count": null,
      "metadata": {
        "id": "iNUu7NYAOwyN"
      },
      "outputs": [],
      "source": [
        "compiled=compiled.append({'Regressor': 'LinearRegression', 'Avg_Train_Score': train_scores.mean(),\n",
        "                          'Avg_Test_Score': test_scores.mean(), 'RMSE_Best_Param': mse.mean(),\n",
        "                          'Best_Hyperparameters': \"N/A\"}, ignore_index=True)"
      ]
    },
    {
      "cell_type": "markdown",
      "metadata": {
        "id": "MViwyKECOwyN"
      },
      "source": [
        "# Improved Linear Regression\n",
        "\n",
        "# 1. Ridge"
      ]
    },
    {
      "cell_type": "code",
      "execution_count": null,
      "metadata": {
        "id": "kdXsVEA-OwyN",
        "outputId": "22c06860-d2f5-4c03-8fa9-cbafca9c6b29"
      },
      "outputs": [
        {
          "data": {
            "text/plain": [
              "0.14852490072470514"
            ]
          },
          "execution_count": 27,
          "metadata": {},
          "output_type": "execute_result"
        }
      ],
      "source": [
        "ridge= Ridge()\n",
        "param= {'alpha':[ 0.01, 0.1, 1, 5, 10,20,30,50]}\n",
        "ridge_regressor= GridSearchCV(ridge, param, cv=10, return_train_score= True)\n",
        "ridge_regressor.fit(x_train, y_train)\n",
        "ridge_regressor.score(x_test, y_test)"
      ]
    },
    {
      "cell_type": "code",
      "execution_count": null,
      "metadata": {
        "id": "_VtMUPKXOwyN",
        "outputId": "89e174da-2ed2-4e03-897f-8a308a8b94fd"
      },
      "outputs": [
        {
          "name": "stdout",
          "output_type": "stream",
          "text": [
            "Train score across different alpha is: [0.22672228 0.22672026 0.22655061 0.22425457 0.22043074 0.21260872\n",
            " 0.20529193 0.19251691]\n",
            "\n",
            "Test score across different alpha is: [0.13648128 0.13672507 0.13880236 0.14373568 0.14596519 0.14611843\n",
            " 0.14410056 0.13821864]\n"
          ]
        }
      ],
      "source": [
        "ridge_train_score_list= ridge_regressor.cv_results_[\"mean_train_score\"]\n",
        "print(f'Train score across different alpha is: {ridge_train_score_list}')\n",
        "\n",
        "ridge_test_score_list= ridge_regressor.cv_results_[\"mean_test_score\"]\n",
        "print(f'\\nTest score across different alpha is: {ridge_test_score_list}')"
      ]
    },
    {
      "cell_type": "code",
      "execution_count": null,
      "metadata": {
        "scrolled": true,
        "id": "ek9yV1GAOwyN",
        "outputId": "d939b428-4b00-4d3d-b679-895c8b164e73"
      },
      "outputs": [
        {
          "name": "stdout",
          "output_type": "stream",
          "text": [
            "Best parameter for ridge regression is: {'alpha': 20}\n",
            "Average training score for ridge regression model using 10Fold CV is: 0.2168870024327188\n",
            "Average testing score for ridge regression model using 10Fold CV is: 0.14126840141745886\n"
          ]
        },
        {
          "data": {
            "image/png": "[encoded data removed]",
            "text/plain": [
              "<Figure size 432x288 with 1 Axes>"
            ]
          },
          "metadata": {},
          "output_type": "display_data"
        }
      ],
      "source": [
        "#visualize the result:plots\n",
        "x_range= [0.01, 0.1, 1, 5, 10, 20, 30, 50]\n",
        "plt.plot(x_range, ridge_train_score_list, c = 'g', label = 'Train Score')\n",
        "plt.plot(x_range, ridge_test_score_list, c = 'b', label = 'Test Score')\n",
        "plt.xscale('log')\n",
        "plt.legend(loc = 3)\n",
        "plt.xlabel(r'$\\alpha$')\n",
        "plt.ylabel('Score')\n",
        "\n",
        "print(f'Best parameter for ridge regression is: {ridge_regressor.best_params_}')\n",
        "print(f'Average training score for ridge regression model using 10Fold CV is: {((ridge_regressor.cv_results_[\"mean_train_score\"]).sum())/len(x_range)}')\n",
        "print(f'Average testing score for ridge regression model using 10Fold CV is: {((ridge_regressor.cv_results_[\"mean_test_score\"]).sum())/len(x_range)}')\n",
        ""
      ]
    },
    {
      "cell_type": "code",
      "execution_count": null,
      "metadata": {
        "id": "NHjwV1P2OwyN",
        "outputId": "a7640d67-170b-40e0-f50c-0723034dbb18"
      },
      "outputs": [
        {
          "name": "stdout",
          "output_type": "stream",
          "text": [
            "Train RMSE for best Ridge regression model using 10 Fold CV is: -14662.966896770798\n",
            "Test  RMSE for best Ridge regression model using 10 Fold CV is: -17989.59564547044\n"
          ]
        }
      ],
      "source": [
        "#Implementing the final model with the best param with Root mean squared error(RMSE) as the scoring metrics\n",
        "ridge_final= Ridge(alpha=20)\n",
        "ridge_final.fit(x_train, y_train)\n",
        "ridge_final_train_scores= cross_val_score(ridge_final,x_train, y_train, cv=10, scoring= 'neg_mean_squared_error')\n",
        "ridge_final_test_scores= cross_val_score(ridge_final,x_test, y_test, cv=10, scoring= 'neg_mean_squared_error')\n",
        "print(f'Train RMSE for best Ridge regression model using 10 Fold CV is: {ridge_final_train_scores.mean()}')\n",
        "print(f'Test  RMSE for best Ridge regression model using 10 Fold CV is: {ridge_final_test_scores.mean()}')"
      ]
    },
    {
      "cell_type": "code",
      "execution_count": null,
      "metadata": {
        "id": "etU5_HusOwyN"
      },
      "outputs": [],
      "source": [
        "compiled=compiled.append({'Regressor': 'Ridge_Regression',\n",
        "                          'Avg_Train_Score': ((ridge_regressor.cv_results_[\"mean_train_score\"]).sum())/len(x_range),\n",
        "                          'Avg_Test_Score': ((ridge_regressor.cv_results_[\"mean_test_score\"]).sum())/len(x_range),\n",
        "                          'RMSE_Best_Param': ridge_final_test_scores.mean(),\n",
        "                          'Best_Hyperparameters': ridge_regressor.best_params_}, ignore_index=True)"
      ]
    },
    {
      "cell_type": "markdown",
      "metadata": {
        "id": "kH7N7BH4OwyN"
      },
      "source": [
        "# 2. Lasso"
      ]
    },
    {
      "cell_type": "code",
      "execution_count": null,
      "metadata": {
        "id": "r43Gm24eOwyN",
        "outputId": "5bffdc37-015e-4608-a073-1bb18db56339"
      },
      "outputs": [
        {
          "data": {
            "text/plain": [
              "0.14694910542838957"
            ]
          },
          "execution_count": 32,
          "metadata": {},
          "output_type": "execute_result"
        }
      ],
      "source": [
        "#Lasso regression\n",
        "lasso= Lasso()\n",
        "param= {'alpha':[0.0001, 0.001, 0.01, 0.1, 1,5]}\n",
        "lasso_regressor= GridSearchCV(lasso, param, cv=10, return_train_score= True)\n",
        "lasso_regressor.fit(x_train, y_train)\n",
        "lasso_regressor.score(x_test, y_test)"
      ]
    },
    {
      "cell_type": "code",
      "execution_count": null,
      "metadata": {
        "id": "Gg7dla8pOwyO",
        "outputId": "9f9577a7-c301-4a9a-a206-2dc3160e034a"
      },
      "outputs": [
        {
          "name": "stdout",
          "output_type": "stream",
          "text": [
            "Train score across different alpha is: [0.13645549 0.13647135 0.13662591 0.13776226 0.13609906 0.06983221]\n",
            "\n",
            "Test score across different alpha is: [0.2267223  0.22672226 0.22671881 0.22637952 0.20597025 0.10856615]\n"
          ]
        }
      ],
      "source": [
        "lasso_test_score_list= lasso_regressor.cv_results_[\"mean_test_score\"]\n",
        "print(f'Train score across different alpha is: {lasso_test_score_list}')\n",
        "\n",
        "lasso_train_score_list= lasso_regressor.cv_results_[\"mean_train_score\"]\n",
        "print(f'\\nTest score across different alpha is: {lasso_train_score_list}')"
      ]
    },
    {
      "cell_type": "code",
      "execution_count": null,
      "metadata": {
        "id": "L8XKkcs3OwyO",
        "outputId": "3ad14426-04cd-463c-e2eb-3d1b8695a291"
      },
      "outputs": [
        {
          "name": "stdout",
          "output_type": "stream",
          "text": [
            "Best parameter for Lasso regression is: {'alpha': 0.1}\n",
            "Average training score for Lasso regression model using 10Fold CV is: 0.20351321513028922\n",
            "Average testing score for Lasso regression model using 10Fold CV is: 0.1255410454244302\n"
          ]
        },
        {
          "data": {
            "image/png": "[encoded data removed]",
            "text/plain": [
              "<Figure size 432x288 with 1 Axes>"
            ]
          },
          "metadata": {},
          "output_type": "display_data"
        }
      ],
      "source": [
        "#visualize the result:plots\n",
        "x_range= [0.0001, 0.001, 0.01, 0.1, 1,5]\n",
        "plt.plot(x_range, lasso_train_score_list, c = 'g', label = 'Train Score')\n",
        "plt.plot(x_range, lasso_test_score_list, c = 'b', label = 'Test Score')\n",
        "plt.xscale('log')\n",
        "plt.legend(loc = 3)\n",
        "plt.xlabel(r'$\\alpha$')\n",
        "plt.ylabel('Score')\n",
        "\n",
        "\n",
        "print(f'Best parameter for Lasso regression is: {lasso_regressor.best_params_}')\n",
        "print(f'Average training score for Lasso regression model using 10Fold CV is: {((lasso_regressor.cv_results_[\"mean_train_score\"]).sum())/len(x_range)}')\n",
        "print(f'Average testing score for Lasso regression model using 10Fold CV is: {((lasso_regressor.cv_results_[\"mean_test_score\"]).sum())/len(x_range)}')\n",
        ""
      ]
    },
    {
      "cell_type": "code",
      "execution_count": null,
      "metadata": {
        "id": "XDaTvo9lOwyO",
        "outputId": "53af49f7-9935-4441-e2f5-34c309e54f8c"
      },
      "outputs": [
        {
          "name": "stdout",
          "output_type": "stream",
          "text": [
            "Train RMSE for best Lasso regression model using 10 Fold CV is: -14751.352578105802\n",
            "Test  RMSE for best Lasso regression model using 10 Fold CV is: -18405.348432579565\n"
          ]
        }
      ],
      "source": [
        "#Implementing the final model with the best param with Root mean squared error(RMSE) as the scoring metrics\n",
        "lasso_final= Lasso(alpha=0.1)\n",
        "lasso_final.fit(x_train, y_train)\n",
        "lasso_final_train_scores= cross_val_score(lasso_final,x_train, y_train, cv=10, scoring= 'neg_mean_squared_error')\n",
        "lasso_final_test_scores= cross_val_score(lasso_final,x_test, y_test, cv=10, scoring= 'neg_mean_squared_error')\n",
        "print(f'Train RMSE for best Lasso regression model using 10 Fold CV is: {lasso_final_train_scores.mean()}')\n",
        "print(f'Test  RMSE for best Lasso regression model using 10 Fold CV is: {lasso_final_test_scores.mean()}')"
      ]
    },
    {
      "cell_type": "code",
      "execution_count": null,
      "metadata": {
        "id": "2Hepqt5vOwyO"
      },
      "outputs": [],
      "source": [
        "compiled=compiled.append({'Regressor': 'Lasso_Regression',\n",
        "                          'Avg_Train_Score': ((lasso_regressor.cv_results_[\"mean_train_score\"]).sum())/len(x_range),\n",
        "                          'Avg_Test_Score': ((lasso_regressor.cv_results_[\"mean_test_score\"]).sum())/len(x_range),\n",
        "                          'RMSE_Best_Param': lasso_final_test_scores.mean(), 'Best_Hyperparameters': lasso_regressor.best_params_}, ignore_index=True)"
      ]
    },
    {
      "cell_type": "markdown",
      "metadata": {
        "id": "To3dYeFMOwyO"
      },
      "source": [
        "# 3. Polynomial"
      ]
    },
    {
      "cell_type": "code",
      "execution_count": null,
      "metadata": {
        "id": "D-8iG6ieOwyO"
      },
      "outputs": [],
      "source": [
        "lreg2= LinearRegression()\n",
        "train_score_list = []\n",
        "test_score_list = []\n",
        "\n",
        "#Use maxiter as a param\n",
        "for n in [1,2,3]:\n",
        "    poly = PolynomialFeatures(n)\n",
        "    X_train_poly = poly.fit_transform(x_train)\n",
        "    lreg2.fit(X_train_poly, y_train)\n",
        "    train_scores= cross_val_score(lreg2,X_train_poly,y_train, cv=10)\n",
        "    test_scores= cross_val_score(lreg2,x_test,y_test, cv=10)\n",
        "    train_score_list.append(train_scores)\n",
        "    test_score_list.append(test_scores)"
      ]
    },
    {
      "cell_type": "code",
      "execution_count": null,
      "metadata": {
        "id": "gRZyWcx3OwyO"
      },
      "outputs": [],
      "source": [
        "poly_train_score_list1=[]\n",
        "poly_test_score_list1=[]\n",
        "\n",
        "for i in [0,1,2]:\n",
        "    poly_train_score_list= train_score_list[i].sum()/len(train_score_list[i])\n",
        "    poly_train_score_list1.append(poly_train_score_list)\n",
        "    poly_test_score_list= test_score_list[i].sum()/len(test_score_list[i])\n",
        "    poly_test_score_list1.append(poly_test_score_list)\n",
        ""
      ]
    },
    {
      "cell_type": "code",
      "execution_count": null,
      "metadata": {
        "id": "9PbeYu_ROwyO",
        "outputId": "9c0df34f-986a-4228-fab4-f9bf61242365"
      },
      "outputs": [
        {
          "name": "stdout",
          "output_type": "stream",
          "text": [
            "Best score comes from Degree 2\n",
            "Average Train score across different params is: [0.13645371693622854, -0.33548603998375015, -3.1859065071489825]\n",
            "Average Test score across different params is: [0.025437005586257565, 0.025437005586257565, 0.025437005586257565]\n"
          ]
        }
      ],
      "source": [
        "print('Best score comes from Degree 2')\n",
        "print(f'Average Train score across different params is: {poly_train_score_list1}')\n",
        "print(f'Average Test score across different params is: {poly_test_score_list1}')\n"
      ]
    },
    {
      "cell_type": "code",
      "execution_count": null,
      "metadata": {
        "id": "soooYXJMOwyO",
        "outputId": "ee22d758-476c-422a-c857-a0603672fac6"
      },
      "outputs": [
        {
          "data": {
            "text/plain": [
              "Text(0,0.5,'Score')"
            ]
          },
          "execution_count": 40,
          "metadata": {},
          "output_type": "execute_result"
        },
        {
          "data": {
            "image/png": "[encoded data removed]",
            "text/plain": [
              "<Figure size 432x288 with 1 Axes>"
            ]
          },
          "metadata": {},
          "output_type": "display_data"
        }
      ],
      "source": [
        "x_range= [1,2,3]\n",
        "plt.plot(x_range, poly_train_score_list1, c = 'g', label = 'Train Score')\n",
        "plt.plot(x_range, poly_test_score_list1, c = 'b', label = 'Test Score')\n",
        "plt.xscale('log')\n",
        "plt.legend(loc = 3)\n",
        "plt.xlabel(r'degree')\n",
        "plt.ylabel('Score')"
      ]
    },
    {
      "cell_type": "code",
      "execution_count": null,
      "metadata": {
        "id": "zA5Y-_hQOwyO",
        "outputId": "2ec80d10-5e73-4fc2-9de2-0a759a7552ed"
      },
      "outputs": [
        {
          "name": "stdout",
          "output_type": "stream",
          "text": [
            "Train RMSE for best Poly regression model using 10 Fold CV is: -21307.8206839483\n",
            "Test  RMSE for best Poly regression model using 10 Fold CV is: -18524.50207066597\n"
          ]
        }
      ],
      "source": [
        "poly_final= PolynomialFeatures(degree=2)\n",
        "x_train_poly_final= poly_final.fit_transform(x_train)\n",
        "poly_final.fit(x_train_poly_final, y_train)\n",
        "lreg2.fit(x_train_poly_final, y_train)\n",
        "\n",
        "poly_final_train_scores= cross_val_score(lreg2, x_train_poly_final, y_train, cv=10, scoring= 'neg_mean_squared_error')\n",
        "poly_final_test_scores= cross_val_score(lreg2, x_test, y_test, cv=10, scoring= 'neg_mean_squared_error')\n",
        "print(f'Train RMSE for best Poly regression model using 10 Fold CV is: {poly_final_train_scores.mean()}')\n",
        "print(f'Test  RMSE for best Poly regression model using 10 Fold CV is: {poly_final_test_scores.mean()}')"
      ]
    },
    {
      "cell_type": "code",
      "execution_count": null,
      "metadata": {
        "id": "TqW0aLBHOwyP"
      },
      "outputs": [],
      "source": [
        "def list_sum(s):\n",
        "    add=0\n",
        "    for i in s:\n",
        "        add= add+i\n",
        "    return add\n",
        "\n",
        "\n",
        "Avg_train_score= list_sum(poly_train_score_list1)/len(poly_train_score_list1)\n",
        "Avg_Test_Score= list_sum(poly_test_score_list1)/len(poly_test_score_list1)"
      ]
    },
    {
      "cell_type": "code",
      "execution_count": null,
      "metadata": {
        "id": "sZCBcITxOwyP"
      },
      "outputs": [],
      "source": [
        "compiled=compiled.append({'Regressor': 'Polynomial_Regression', 'Avg_Train_Score': Avg_train_score,\n",
        "                          'Avg_Test_Score': Avg_Test_Score, 'RMSE_Best_Param': poly_final_test_scores.mean(),\n",
        "                          'Best_Hyperparameters': 'Degree:2'}, ignore_index=True)"
      ]
    },
    {
      "cell_type": "markdown",
      "metadata": {
        "id": "bLuItcw5OwyP"
      },
      "source": [
        "# Logistic Regression"
      ]
    },
    {
      "cell_type": "code",
      "execution_count": 17,
      "metadata": {
        "colab": {
          "base_uri": "https://localhost:8080/",
          "height": 232
        },
        "id": "eWMR9prXOwyP",
        "outputId": "86cd24c3-9bba-4063-d3d4-bebaf0b7b176"
      },
      "outputs": [
        {
          "output_type": "error",
          "ename": "NameError",
          "evalue": "name 'x_train' is not defined",
          "traceback": [
            "\u001b[0;31m---------------------------------------------------------------------------\u001b[0m",
            "\u001b[0;31mNameError\u001b[0m                                 Traceback (most recent call last)",
            "\u001b[0;32m<ipython-input-17-b8197b1eb38b>\u001b[0m in \u001b[0;36m<cell line: 8>\u001b[0;34m()\u001b[0m\n\u001b[1;32m      6\u001b[0m \u001b[0mlogistic\u001b[0m \u001b[0;34m=\u001b[0m \u001b[0mLogisticRegression\u001b[0m\u001b[0;34m(\u001b[0m\u001b[0;34m)\u001b[0m\u001b[0;34m\u001b[0m\u001b[0;34m\u001b[0m\u001b[0m\n\u001b[1;32m      7\u001b[0m \u001b[0mlogistic_regressor\u001b[0m \u001b[0;34m=\u001b[0m \u001b[0mGridSearchCV\u001b[0m\u001b[0;34m(\u001b[0m\u001b[0mlogistic\u001b[0m\u001b[0;34m,\u001b[0m \u001b[0mhyperparameters\u001b[0m\u001b[0;34m,\u001b[0m \u001b[0mcv\u001b[0m\u001b[0;34m=\u001b[0m\u001b[0;36m10\u001b[0m\u001b[0;34m,\u001b[0m\u001b[0mreturn_train_score\u001b[0m\u001b[0;34m=\u001b[0m \u001b[0;32mTrue\u001b[0m\u001b[0;34m)\u001b[0m\u001b[0;34m\u001b[0m\u001b[0;34m\u001b[0m\u001b[0m\n\u001b[0;32m----> 8\u001b[0;31m \u001b[0mlogistic_regressor\u001b[0m\u001b[0;34m.\u001b[0m\u001b[0mfit\u001b[0m\u001b[0;34m(\u001b[0m\u001b[0mx_train\u001b[0m\u001b[0;34m,\u001b[0m \u001b[0my_train\u001b[0m\u001b[0;34m)\u001b[0m\u001b[0;34m\u001b[0m\u001b[0;34m\u001b[0m\u001b[0m\n\u001b[0m\u001b[1;32m      9\u001b[0m \u001b[0mlogistic_regressor\u001b[0m\u001b[0;34m.\u001b[0m\u001b[0mscore\u001b[0m\u001b[0;34m(\u001b[0m\u001b[0mx_test\u001b[0m\u001b[0;34m,\u001b[0m \u001b[0my_test\u001b[0m\u001b[0;34m)\u001b[0m\u001b[0;34m\u001b[0m\u001b[0;34m\u001b[0m\u001b[0m\n",
            "\u001b[0;31mNameError\u001b[0m: name 'x_train' is not defined"
          ]
        }
      ],
      "source": [
        "#Creating hyperparameters for Grid Search\n",
        "penalty = ['l1', 'l2']\n",
        "C = [0.001, 0.01, 0.1, 1, 5]\n",
        "hyperparameters = dict(C=C, penalty=penalty)\n",
        "\n",
        "logistic = LogisticRegression()\n",
        "logistic_regressor = GridSearchCV(logistic, hyperparameters, cv=10,return_train_score= True)\n",
        "logistic_regressor.fit(x_train, y_train)\n",
        "logistic_regressor.score(x_test, y_test)"
      ]
    },
    {
      "cell_type": "code",
      "execution_count": null,
      "metadata": {
        "id": "kQaTwg-ZOwyP",
        "outputId": "0c46271f-7525-408d-b126-887c13587ede"
      },
      "outputs": [
        {
          "name": "stdout",
          "output_type": "stream",
          "text": [
            "Train score across different params is: [0.00436439 0.28674676 0.23458029 0.30933136 0.2777731  0.322619\n",
            " 0.34080319 0.34720293 0.41560982 0.39460262]\n",
            "\n",
            "Test score across different params is: [0.00436439 0.28674676 0.23458029 0.30933136 0.2777731  0.322619\n",
            " 0.34080319 0.34720293 0.41560982 0.39460262]\n"
          ]
        }
      ],
      "source": [
        "logistic_regressor_train_score_list= logistic_regressor.cv_results_[\"mean_train_score\"]\n",
        "print(f'Train score across different params is: {logistic_regressor_train_score_list}')\n",
        "\n",
        "logistic_regressor_test_score_list= logistic_regressor.cv_results_[\"mean_test_score\"]\n",
        "print(f'\\nTest score across different params is: {logistic_regressor_train_score_list}')\n"
      ]
    },
    {
      "cell_type": "code",
      "execution_count": null,
      "metadata": {
        "id": "rGNBsWp0OwyP",
        "outputId": "5c82c9ec-e238-4852-c528-9b61f13c20ba"
      },
      "outputs": [
        {
          "name": "stdout",
          "output_type": "stream",
          "text": [
            "Best parameter for Logistic regression is: {'C': 1, 'penalty': 'l2'}\n",
            "Average training score for Logistic regression model using 10Fold CV is: 0.293363346673715\n",
            "Average testing score for Logistic regression model using 10Fold CV is: 0.24533333333333332\n"
          ]
        }
      ],
      "source": [
        "print(f'Best parameter for Logistic regression is: {logistic_regressor.best_params_}')\n",
        "print(f'Average training score for Logistic regression model using 10Fold CV is: {(logistic_regressor_train_score_list.sum())/len(logistic_regressor_train_score_list)}')\n",
        "print(f'Average testing score for Logistic regression model using 10Fold CV is: {(logistic_regressor_test_score_list.sum())/len(logistic_regressor_test_score_list)}')\n",
        ""
      ]
    },
    {
      "cell_type": "code",
      "execution_count": null,
      "metadata": {
        "id": "EP6CcHYAOwyP",
        "outputId": "65e8daf2-5323-442f-d123-069cf5a82085"
      },
      "outputs": [
        {
          "name": "stdout",
          "output_type": "stream",
          "text": [
            "Train RMSE for best Logistic regression model using 10 Fold CV is: -15471.080055602599\n",
            "Test RMSE for best Logistic regression model using 10 Fold CV is: -13125.19056627752\n"
          ]
        }
      ],
      "source": [
        "#Implementing Logistic regression model using the best found parameters\n",
        "logistic_final= LogisticRegression(C=1, penalty='l2')\n",
        "logistic_final.fit(x_train, y_train)\n",
        "logistic_final_train_score= cross_val_score(logistic_final,x_train, y_train, cv=10, scoring= 'neg_mean_squared_error')\n",
        "logistic_final_test_score= cross_val_score(logistic_final,x_test, y_test, cv=10, scoring= 'neg_mean_squared_error')\n",
        "print(f'Train RMSE for best Logistic regression model using 10 Fold CV is: {logistic_final_train_score.mean()}')\n",
        "print(f'Test RMSE for best Logistic regression model using 10 Fold CV is: {logistic_final_test_score.mean()}')\n"
      ]
    },
    {
      "cell_type": "code",
      "execution_count": null,
      "metadata": {
        "id": "mOHDCKTJOwyP"
      },
      "outputs": [],
      "source": [
        "compiled=compiled.append({'Regressor': 'logistic_Regression',\n",
        "                          'Avg_Train_Score': ((logistic_regressor.cv_results_[\"mean_train_score\"]).sum())/len(logistic_regressor_train_score_list),\n",
        "                          'Avg_Test_Score': ((logistic_regressor.cv_results_[\"mean_test_score\"]).sum())/len(logistic_regressor_train_score_list),\n",
        "                          'RMSE_Best_Param': logistic_final_test_score.mean(),\n",
        "                          'Best_Hyperparameters': logistic_regressor.best_params_}, ignore_index=True)"
      ]
    },
    {
      "cell_type": "markdown",
      "metadata": {
        "id": "vhCvQsxzOwyP"
      },
      "source": [
        "# Support Vector Regression\n",
        "\n",
        "1. Simple Linear SVM"
      ]
    },
    {
      "cell_type": "code",
      "execution_count": null,
      "metadata": {
        "id": "Any7aVOJOwyP"
      },
      "outputs": [],
      "source": [
        "param_grid = {'C': [ 0.1, 1, 10, 20, 50, 100, 200] }\n",
        "svm_model = LinearSVR()\n",
        "linearSVM_regressor= GridSearchCV(svm_model, param_grid, cv=5, return_train_score= True)"
      ]
    },
    {
      "cell_type": "code",
      "execution_count": null,
      "metadata": {
        "id": "3IBcZ6y4OwyP",
        "outputId": "a48be014-a47c-44e8-868b-86624ff9f2c5"
      },
      "outputs": [
        {
          "data": {
            "text/plain": [
              "0.018284029392914403"
            ]
          },
          "execution_count": 50,
          "metadata": {},
          "output_type": "execute_result"
        }
      ],
      "source": [
        "linearSVM_regressor.fit(x_train, y_train)\n",
        "linearSVM_regressor.score(x_train, y_train)"
      ]
    },
    {
      "cell_type": "code",
      "execution_count": null,
      "metadata": {
        "id": "uFktO-irOwyQ",
        "outputId": "ede92d18-e745-451f-ef81-19faeaa3d69d"
      },
      "outputs": [
        {
          "name": "stdout",
          "output_type": "stream",
          "text": [
            "Train score across different params is: [-0.24045276 -0.07561418 -0.00311983  0.01156788  0.02058575  0.02371494\n",
            "  0.01886029]\n",
            "Test score across different params is: [-0.24566075 -0.08305777 -0.01566815 -0.00276486  0.00410061  0.00677589\n",
            "  0.00216548]\n"
          ]
        }
      ],
      "source": [
        "linearSVM_regressor_train_score_list= linearSVM_regressor.cv_results_[\"mean_train_score\"]\n",
        "print(f'Train score across different params is: {linearSVM_regressor_train_score_list}')\n",
        "\n",
        "linearSVM_regressor_test_score_list= linearSVM_regressor.cv_results_[\"mean_test_score\"]\n",
        "print(f'Test score across different params is: {linearSVM_regressor_test_score_list}')"
      ]
    },
    {
      "cell_type": "code",
      "execution_count": null,
      "metadata": {
        "id": "K1BS6nxlOwyQ",
        "outputId": "64b89ee6-5bdb-4ef9-d91f-1139249abb02"
      },
      "outputs": [
        {
          "name": "stdout",
          "output_type": "stream",
          "text": [
            "Best parameter for Linear SVM regression is: {'C': 100}\n",
            "Average training score for Linear SVM regression model using 10Fold CV is: -0.03492255903676378\n",
            "Average testing score for Linear SVM regression model using 10Fold CV is: -0.04772993632996287\n"
          ]
        },
        {
          "data": {
            "image/png": "[encoded data removed]",
            "text/plain": [
              "<Figure size 432x288 with 1 Axes>"
            ]
          },
          "metadata": {},
          "output_type": "display_data"
        }
      ],
      "source": [
        "x_range=  [ 0.1, 1, 10, 20, 50, 100, 200]\n",
        "plt.plot(x_range, linearSVM_regressor_train_score_list, c = 'g', label = 'Train Score')\n",
        "plt.plot(x_range, linearSVM_regressor_test_score_list, c = 'b', label = 'Test Score')\n",
        "plt.xscale('log')\n",
        "plt.legend(loc = 3)\n",
        "plt.xlabel(r'$\\alpha$')\n",
        "plt.ylabel('Score')\n",
        "\n",
        "print(f'Best parameter for Linear SVM regression is: {linearSVM_regressor.best_params_}')\n",
        "print(f'Average training score for Linear SVM regression model using 10Fold CV is: {((linearSVM_regressor.cv_results_[\"mean_train_score\"]).sum())/len(x_range)}')\n",
        "print(f'Average testing score for Linear SVM regression model using 10Fold CV is: {((linearSVM_regressor.cv_results_[\"mean_test_score\"]).sum())/len(x_range)}')\n",
        ""
      ]
    },
    {
      "cell_type": "code",
      "execution_count": null,
      "metadata": {
        "id": "iAFrbQ5TOwyQ",
        "outputId": "c131ae89-040d-4e06-923c-115ca5e1990f"
      },
      "outputs": [
        {
          "name": "stdout",
          "output_type": "stream",
          "text": [
            "Train RMSE for best Simple linearSVM regression model using 10 Fold CV is: -17410.706328408283\n",
            "Test RMSE for best Simple linearSVM regression model using 10 Fold CV is: -19239.99273985449\n"
          ]
        }
      ],
      "source": [
        "#Implementing Linear SVM regression model using the best found parameters\n",
        "linearSVM_final= LinearSVR(C= 50)\n",
        "linearSVM_final.fit(x_train, y_train)\n",
        "linearSVM_final_final_train_score= cross_val_score(linearSVM_final,x_train, y_train, cv=10, scoring= 'neg_mean_squared_error')\n",
        "linearSVM_final_final_test_score= cross_val_score(linearSVM_final,x_test, y_test, cv=10, scoring= 'neg_mean_squared_error')\n",
        "print(f'Train RMSE for best Simple linearSVM regression model using 10 Fold CV is: {linearSVM_final_final_train_score.mean()}')\n",
        "print(f'Test RMSE for best Simple linearSVM regression model using 10 Fold CV is: {linearSVM_final_final_test_score.mean()}')\n"
      ]
    },
    {
      "cell_type": "code",
      "execution_count": null,
      "metadata": {
        "id": "KzpO1MvdOwyQ"
      },
      "outputs": [],
      "source": [
        "compiled=compiled.append({'Regressor': 'linear_SVMRegression',\n",
        "                          'Avg_Train_Score': ((linearSVM_regressor.cv_results_[\"mean_train_score\"]).sum())/len(linearSVM_regressor_train_score_list),\n",
        "                          'Avg_Test_Score': ((linearSVM_regressor.cv_results_[\"mean_test_score\"]).sum())/len(linearSVM_regressor_test_score_list),\n",
        "                          'RMSE_Best_Param': linearSVM_final_final_train_score.mean(),\n",
        "                          'Best_Hyperparameters': linearSVM_regressor.best_params_}, ignore_index=True)"
      ]
    },
    {
      "cell_type": "markdown",
      "metadata": {
        "id": "_oy_wdM3OwyQ"
      },
      "source": [
        "2. Kernalized SVM Regression"
      ]
    },
    {
      "cell_type": "code",
      "execution_count": 21,
      "metadata": {
        "colab": {
          "base_uri": "https://localhost:8080/",
          "height": 268
        },
        "id": "7jwZ_Dy4OwyQ",
        "outputId": "11a7c215-674b-431c-f03b-a85928c809d8"
      },
      "outputs": [
        {
          "output_type": "error",
          "ename": "NameError",
          "evalue": "name 'x_train' is not defined",
          "traceback": [
            "\u001b[0;31m---------------------------------------------------------------------------\u001b[0m",
            "\u001b[0;31mNameError\u001b[0m                                 Traceback (most recent call last)",
            "\u001b[0;32m<ipython-input-21-7113a87a25e7>\u001b[0m in \u001b[0;36m<cell line: 7>\u001b[0;34m()\u001b[0m\n\u001b[1;32m      5\u001b[0m \u001b[0mSVM_regressor\u001b[0m \u001b[0;34m=\u001b[0m \u001b[0mGridSearchCV\u001b[0m\u001b[0;34m(\u001b[0m\u001b[0mestimator\u001b[0m \u001b[0;34m=\u001b[0m \u001b[0mSVR\u001b[0m\u001b[0;34m(\u001b[0m\u001b[0;34m)\u001b[0m\u001b[0;34m,\u001b[0m \u001b[0mscoring\u001b[0m\u001b[0;34m=\u001b[0m \u001b[0;34m'neg_mean_squared_error'\u001b[0m\u001b[0;34m,\u001b[0m \u001b[0mparam_grid\u001b[0m \u001b[0;34m=\u001b[0m \u001b[0mparameters\u001b[0m\u001b[0;34m,\u001b[0m \u001b[0mcv\u001b[0m\u001b[0;34m=\u001b[0m\u001b[0;36m5\u001b[0m\u001b[0;34m,\u001b[0m \u001b[0mn_jobs\u001b[0m \u001b[0;34m=\u001b[0m \u001b[0;34m-\u001b[0m\u001b[0;36m1\u001b[0m\u001b[0;34m)\u001b[0m\u001b[0;34m\u001b[0m\u001b[0;34m\u001b[0m\u001b[0m\n\u001b[1;32m      6\u001b[0m \u001b[0;34m\u001b[0m\u001b[0m\n\u001b[0;32m----> 7\u001b[0;31m \u001b[0mSVM_regressor\u001b[0m\u001b[0;34m.\u001b[0m\u001b[0mfit\u001b[0m\u001b[0;34m(\u001b[0m\u001b[0mx_train\u001b[0m\u001b[0;34m,\u001b[0m\u001b[0my_train\u001b[0m\u001b[0;34m)\u001b[0m\u001b[0;34m\u001b[0m\u001b[0;34m\u001b[0m\u001b[0m\n\u001b[0m\u001b[1;32m      8\u001b[0m \u001b[0;34m\u001b[0m\u001b[0m\n\u001b[1;32m      9\u001b[0m \u001b[0;31m#print(\"Grid search best score:\", grid_search.best_score_)\u001b[0m\u001b[0;34m\u001b[0m\u001b[0;34m\u001b[0m\u001b[0m\n",
            "\u001b[0;31mNameError\u001b[0m: name 'x_train' is not defined"
          ]
        }
      ],
      "source": [
        "#Creating hyperparameters for Grid Search\n",
        "from sklearn.svm import SVR\n",
        "parameters = [{'C':[ 0.1,1], 'kernel':['rbf','linear','poly'], 'gamma':[0.01,0.1]}]\n",
        "\n",
        "SVM_regressor = GridSearchCV(estimator = SVR(), scoring= 'neg_mean_squared_error', param_grid = parameters, cv=5, n_jobs = -1)\n",
        "\n",
        "SVM_regressor.fit(x_train,y_train)\n",
        "\n",
        "#print(\"Grid search best score:\", grid_search.best_score_)\n",
        "#print(\"Grid search best parameters:\", grid_search.best_params_)"
      ]
    },
    {
      "cell_type": "code",
      "execution_count": null,
      "metadata": {
        "scrolled": true,
        "id": "yq_l0DcDOwyQ",
        "outputId": "55f91444-bd24-49f2-e1d0-18abcc16cebd"
      },
      "outputs": [
        {
          "name": "stdout",
          "output_type": "stream",
          "text": [
            "Train score across different params is: [-20661.43255433 -19352.93855139 -20727.42842674 -20596.32556484\n",
            " -19352.93855139 -19277.86367828 -20095.70562016 -18327.84406672\n",
            " -20724.650836   -19736.77003993 -18327.84406672 -16507.8508528 ]\n",
            "Train score across different params is: [-20684.77060845 -19416.97795094 -20756.69647111 -20629.55178835\n",
            " -19416.97795094 -19418.84753208 -20118.41451653 -18429.36373036\n",
            " -20760.87349257 -19835.62133114 -18429.36373036 -17077.57034534]\n"
          ]
        }
      ],
      "source": [
        "SVM_regressor.score(x_test, y_test)\n",
        "SVM_regressor_train_score_list= SVM_regressor.cv_results_[\"mean_train_score\"]\n",
        "print(f'Train score across different params is: {SVM_regressor_train_score_list}')\n",
        "\n",
        "SVM_regressor_test_score_list= SVM_regressor.cv_results_[\"mean_test_score\"]\n",
        "print(f'Train score across different params is: {SVM_regressor_test_score_list}')"
      ]
    },
    {
      "cell_type": "code",
      "execution_count": null,
      "metadata": {
        "id": "c2StjUrBOwyQ",
        "outputId": "1b3e0961-ab0f-416e-8aa5-c5619454b11d"
      },
      "outputs": [
        {
          "name": "stdout",
          "output_type": "stream",
          "text": [
            "Best parameter for SVM regression is: {'C': 1, 'gamma': 0.1, 'kernel': 'poly'}\n",
            "Average training score for SVM regression model using 10Fold CV is: -19474.132734109662\n",
            "Average testing score for SVM regression model using 10Fold CV is: -19581.252454014048\n"
          ]
        }
      ],
      "source": [
        "print(f'Best parameter for SVM regression is: {SVM_regressor.best_params_}')\n",
        "print(f'Average training score for SVM regression model using 10Fold CV is: {(SVM_regressor_train_score_list.sum())/len(SVM_regressor_train_score_list)}')\n",
        "print(f'Average testing score for SVM regression model using 10Fold CV is: {(SVM_regressor_test_score_list.sum())/len(SVM_regressor_test_score_list)}')"
      ]
    },
    {
      "cell_type": "code",
      "execution_count": null,
      "metadata": {
        "id": "EEAvIUgnOwyQ",
        "outputId": "ae07d3cf-9517-4164-ed36-e99e458c8898"
      },
      "outputs": [
        {
          "name": "stdout",
          "output_type": "stream",
          "text": [
            "Train RMSE for best SVM regression model using 10 Fold CV is: -14751.352578105802\n",
            "Test  RMSE for best SVM regression model using 10 Fold CV is: -18405.348432579565\n"
          ]
        }
      ],
      "source": [
        "#Implementing SVM Regressor model with the best estimator found from above analysis\n",
        "svm_final= SVR(C=1 , gamma= 0.1 , kernel='poly')\n",
        "svm_final.fit(x_train, y_train)\n",
        "svm_final_train_scores=cross_val_score(svm_final,x_train, y_train, cv=10, scoring= 'neg_mean_squared_error')\n",
        "svm_final_test_scores=cross_val_score(svm_final,x_test, y_test, cv=10, scoring= 'neg_mean_squared_error')\n",
        "print(f'Train RMSE for best SVM regression model using 10 Fold CV is: {lasso_final_train_scores.mean()}')\n",
        "print(f'Test  RMSE for best SVM regression model using 10 Fold CV is: {lasso_final_test_scores.mean()}')\n"
      ]
    },
    {
      "cell_type": "code",
      "execution_count": null,
      "metadata": {
        "id": "On0XoBagOwyQ"
      },
      "outputs": [],
      "source": [
        "compiled=compiled.append({'Regressor': 'Kernel_SVMRegression',\n",
        "                          'Avg_Train_Score': (SVM_regressor_train_score_list.sum())/len(SVM_regressor_train_score_list),\n",
        "                          'Avg_Test_Score':  (SVM_regressor_test_score_list.sum())/len(SVM_regressor_test_score_list),\n",
        "                          'RMSE_Best_Param': lasso_final_test_scores.mean(),\n",
        "                          'Best_Hyperparameters': SVM_regressor.best_params_}, ignore_index=True)"
      ]
    },
    {
      "cell_type": "markdown",
      "metadata": {
        "id": "-Wq8jJu_OwyQ"
      },
      "source": [
        "# KNN Regressor"
      ]
    },
    {
      "cell_type": "code",
      "execution_count": 22,
      "metadata": {
        "scrolled": false,
        "colab": {
          "base_uri": "https://localhost:8080/",
          "height": 250
        },
        "id": "w4u_KTG4OwyR",
        "outputId": "e390b701-f6b3-4cab-8df1-58e3f7e4e351"
      },
      "outputs": [
        {
          "output_type": "error",
          "ename": "NameError",
          "evalue": "name 'x_train' is not defined",
          "traceback": [
            "\u001b[0;31m---------------------------------------------------------------------------\u001b[0m",
            "\u001b[0;31mNameError\u001b[0m                                 Traceback (most recent call last)",
            "\u001b[0;32m<ipython-input-22-717e3db5ba40>\u001b[0m in \u001b[0;36m<cell line: 4>\u001b[0;34m()\u001b[0m\n\u001b[1;32m      2\u001b[0m \u001b[0mparam\u001b[0m\u001b[0;34m=\u001b[0m \u001b[0;34m{\u001b[0m\u001b[0;34m'n_neighbors'\u001b[0m\u001b[0;34m:\u001b[0m\u001b[0;34m[\u001b[0m\u001b[0;36m1\u001b[0m\u001b[0;34m,\u001b[0m \u001b[0;36m2\u001b[0m\u001b[0;34m,\u001b[0m \u001b[0;36m3\u001b[0m\u001b[0;34m,\u001b[0m \u001b[0;36m4\u001b[0m\u001b[0;34m,\u001b[0m \u001b[0;36m5\u001b[0m\u001b[0;34m,\u001b[0m \u001b[0;36m6\u001b[0m\u001b[0;34m,\u001b[0m \u001b[0;36m7\u001b[0m\u001b[0;34m,\u001b[0m \u001b[0;36m8\u001b[0m\u001b[0;34m,\u001b[0m \u001b[0;36m9\u001b[0m\u001b[0;34m,\u001b[0m \u001b[0;36m10\u001b[0m\u001b[0;34m]\u001b[0m\u001b[0;34m,\u001b[0m \u001b[0;34m'weights'\u001b[0m\u001b[0;34m:\u001b[0m \u001b[0;34m[\u001b[0m\u001b[0;34m'uniform'\u001b[0m\u001b[0;34m,\u001b[0m\u001b[0;34m'distance'\u001b[0m\u001b[0;34m]\u001b[0m\u001b[0;34m,\u001b[0m\u001b[0;34m'algorithm'\u001b[0m\u001b[0;34m:\u001b[0m\u001b[0;34m[\u001b[0m\u001b[0;34m'auto'\u001b[0m\u001b[0;34m,\u001b[0m\u001b[0;34m'ball_tree'\u001b[0m\u001b[0;34m,\u001b[0m\u001b[0;34m'kd_tree'\u001b[0m\u001b[0;34m,\u001b[0m\u001b[0;34m'brute'\u001b[0m\u001b[0;34m]\u001b[0m \u001b[0;34m}\u001b[0m\u001b[0;34m\u001b[0m\u001b[0;34m\u001b[0m\u001b[0m\n\u001b[1;32m      3\u001b[0m \u001b[0mknn_regressor\u001b[0m\u001b[0;34m=\u001b[0m \u001b[0mGridSearchCV\u001b[0m\u001b[0;34m(\u001b[0m\u001b[0mknn\u001b[0m\u001b[0;34m,\u001b[0m \u001b[0mparam\u001b[0m\u001b[0;34m,\u001b[0m \u001b[0mcv\u001b[0m\u001b[0;34m=\u001b[0m\u001b[0;36m10\u001b[0m\u001b[0;34m,\u001b[0m \u001b[0mreturn_train_score\u001b[0m\u001b[0;34m=\u001b[0m \u001b[0;32mTrue\u001b[0m\u001b[0;34m)\u001b[0m\u001b[0;34m\u001b[0m\u001b[0;34m\u001b[0m\u001b[0m\n\u001b[0;32m----> 4\u001b[0;31m \u001b[0mknn_regressor\u001b[0m\u001b[0;34m.\u001b[0m\u001b[0mfit\u001b[0m\u001b[0;34m(\u001b[0m\u001b[0mx_train\u001b[0m\u001b[0;34m,\u001b[0m \u001b[0my_train\u001b[0m\u001b[0;34m)\u001b[0m\u001b[0;34m\u001b[0m\u001b[0;34m\u001b[0m\u001b[0m\n\u001b[0m\u001b[1;32m      5\u001b[0m \u001b[0mknn_regressor\u001b[0m\u001b[0;34m.\u001b[0m\u001b[0mscore\u001b[0m\u001b[0;34m(\u001b[0m\u001b[0mx_test\u001b[0m\u001b[0;34m,\u001b[0m \u001b[0my_test\u001b[0m\u001b[0;34m)\u001b[0m\u001b[0;34m\u001b[0m\u001b[0;34m\u001b[0m\u001b[0m\n",
            "\u001b[0;31mNameError\u001b[0m: name 'x_train' is not defined"
          ]
        }
      ],
      "source": [
        "knn= KNeighborsRegressor()\n",
        "param= {'n_neighbors':[1, 2, 3, 4, 5, 6, 7, 8, 9, 10], 'weights': ['uniform','distance'],'algorithm':['auto','ball_tree','kd_tree','brute'] }\n",
        "knn_regressor= GridSearchCV(knn, param, cv=10, return_train_score= True)\n",
        "knn_regressor.fit(x_train, y_train)\n",
        "knn_regressor.score(x_test, y_test)"
      ]
    },
    {
      "cell_type": "code",
      "execution_count": null,
      "metadata": {
        "scrolled": true,
        "id": "zE6TZq1IOwyR",
        "outputId": "f33c8d1c-754d-44c8-885c-86c46ff67c11"
      },
      "outputs": [
        {
          "name": "stdout",
          "output_type": "stream",
          "text": [
            "Train score across different params is: [1.         1.         0.79921309 1.         0.7040132  1.\n",
            " 0.63219896 1.         0.59475584 1.         0.55284987 1.\n",
            " 0.51561156 1.         0.48246056 1.         0.45590181 1.\n",
            " 0.42708591 1.         1.         1.         0.79921309 1.\n",
            " 0.7040132  1.         0.63219896 1.         0.59475584 1.\n",
            " 0.55284987 1.         0.51561156 1.         0.48246056 1.\n",
            " 0.45590181 1.         0.42708591 1.         1.         1.\n",
            " 0.79921309 1.         0.7040132  1.         0.63219896 1.\n",
            " 0.59475584 1.         0.55284987 1.         0.51561156 1.\n",
            " 0.48246056 1.         0.45590181 1.         0.42708591 1.\n",
            " 1.         1.         0.79921309 1.         0.7040132  1.\n",
            " 0.63219896 1.         0.59475584 1.         0.55284987 1.\n",
            " 0.51561156 1.         0.48246056 1.         0.45590181 1.\n",
            " 0.42708591 1.        ]\n",
            "\n",
            "Test score across different params is: [0.16700949 0.16700949 0.30135137 0.31832449 0.3311224  0.35924587\n",
            " 0.35545932 0.38573997 0.36676282 0.39717217 0.35040926 0.39100376\n",
            " 0.30535241 0.36735558 0.29252271 0.35946012 0.2760211  0.34904008\n",
            " 0.2649482  0.33853631 0.16700949 0.16700949 0.30135137 0.31832449\n",
            " 0.3311224  0.35924587 0.35545932 0.38573997 0.36676282 0.39717217\n",
            " 0.35040926 0.39100376 0.30535241 0.36735558 0.29252271 0.35946012\n",
            " 0.2760211  0.34904008 0.2649482  0.33853631 0.16700949 0.16700949\n",
            " 0.30135137 0.31832449 0.3311224  0.35924587 0.35545932 0.38573997\n",
            " 0.36676282 0.39717217 0.35040926 0.39100376 0.30535241 0.36735558\n",
            " 0.29252271 0.35946012 0.2760211  0.34904008 0.2649482  0.33853631\n",
            " 0.16700949 0.16700949 0.30135137 0.31832449 0.3311224  0.35924587\n",
            " 0.35545932 0.38573997 0.36676282 0.39717217 0.35040926 0.39100376\n",
            " 0.30535241 0.36735558 0.29252271 0.35946012 0.2760211  0.34904008\n",
            " 0.2649482  0.33853631]\n"
          ]
        }
      ],
      "source": [
        "knn_regressor_train_score_list= knn_regressor.cv_results_[\"mean_train_score\"]\n",
        "print(f'Train score across different params is: {knn_regressor_train_score_list}')\n",
        "knn_regressor_test_score_list= knn_regressor.cv_results_[\"mean_test_score\"]\n",
        "print(f'\\nTest score across different params is: {knn_regressor_test_score_list}')"
      ]
    },
    {
      "cell_type": "code",
      "execution_count": null,
      "metadata": {
        "id": "jrwvv9ufOwyR",
        "outputId": "156294b1-1e89-4c0e-d2c4-9e457b9fa38b"
      },
      "outputs": [
        {
          "name": "stdout",
          "output_type": "stream",
          "text": [
            "Best parameter for KNN regression is: {'algorithm': 'brute', 'n_neighbors': 5, 'weights': 'distance'}\n",
            "Average training score for KNN regression model using 10Fold CV is: 0.8082045402515915\n",
            "Average testing score for KNN regression model using 10Fold CV is: 0.3221923453117007\n"
          ]
        }
      ],
      "source": [
        "print(f'Best parameter for KNN regression is: {knn_regressor.best_params_}')\n",
        "print(f'Average training score for KNN regression model using 10Fold CV is: {(knn_regressor_train_score_list.sum())/len(knn_regressor_train_score_list)}')\n",
        "print(f'Average testing score for KNN regression model using 10Fold CV is: {(knn_regressor_test_score_list.sum())/len(knn_regressor_test_score_list)}')\n"
      ]
    },
    {
      "cell_type": "code",
      "execution_count": null,
      "metadata": {
        "id": "hq49JSBWOwyR",
        "outputId": "47c0ebc0-2690-4072-eaa9-678c87883afb"
      },
      "outputs": [
        {
          "name": "stdout",
          "output_type": "stream",
          "text": [
            "Train RMSE for best KNN regression model using 10 Fold CV is: -10363.515628892887\n",
            "Test  RMSE for best KNN regression model using 10 Fold CV is: -16149.000312910392\n"
          ]
        }
      ],
      "source": [
        "#Implementing KNN Regressor model with the best estimator found from above analysis\n",
        "KNN_final= KNeighborsRegressor(algorithm= 'auto', n_neighbors= 5, weights='distance')\n",
        "KNN_final.fit(x_train, y_train)\n",
        "KNN_final_train_scores=cross_val_score(KNN_final,x_train, y_train, cv=10, scoring= 'neg_mean_squared_error')\n",
        "KNN_final_test_scores=cross_val_score(KNN_final,x_test, y_test, cv=10, scoring= 'neg_mean_squared_error')\n",
        "print(f'Train RMSE for best KNN regression model using 10 Fold CV is: {KNN_final_train_scores.mean()}')\n",
        "print(f'Test  RMSE for best KNN regression model using 10 Fold CV is: {KNN_final_test_scores.mean()}')\n"
      ]
    },
    {
      "cell_type": "code",
      "execution_count": null,
      "metadata": {
        "id": "vB22_OROOwyR"
      },
      "outputs": [],
      "source": [
        "compiled=compiled.append({'Regressor': 'KNN_Regression',\n",
        "                          'Avg_Train_Score': (knn_regressor_train_score_list.sum())/len(knn_regressor_train_score_list),\n",
        "                          'Avg_Test_Score':  (knn_regressor_test_score_list.sum())/len(knn_regressor_test_score_list),\n",
        "                          'RMSE_Best_Param': KNN_final_test_scores.mean(),\n",
        "                          'Best_Hyperparameters': knn_regressor.best_params_}, ignore_index=True)"
      ]
    },
    {
      "cell_type": "markdown",
      "metadata": {
        "id": "KLJ53gGYOwyR"
      },
      "source": [
        "# Decision Tree Regressor"
      ]
    },
    {
      "cell_type": "code",
      "execution_count": null,
      "metadata": {
        "id": "-PIIw722OwyR"
      },
      "outputs": [],
      "source": [
        "tree = DecisionTreeRegressor()\n",
        "param_grid = [{'splitter': ['best', 'random'], 'max_depth': np.arange(5,15), 'max_features':[4,5,8,10]}]\n",
        "\n",
        "tree_regressor= GridSearchCV(tree, param_grid, cv=5, return_train_score= True)"
      ]
    },
    {
      "cell_type": "code",
      "execution_count": 18,
      "metadata": {
        "colab": {
          "base_uri": "https://localhost:8080/",
          "height": 197
        },
        "id": "hdzdEJcOOwyR",
        "outputId": "8553d14f-41d6-4cb3-f99d-a50b5593d556"
      },
      "outputs": [
        {
          "output_type": "error",
          "ename": "NameError",
          "evalue": "name 'tree_regressor' is not defined",
          "traceback": [
            "\u001b[0;31m---------------------------------------------------------------------------\u001b[0m",
            "\u001b[0;31mNameError\u001b[0m                                 Traceback (most recent call last)",
            "\u001b[0;32m<ipython-input-18-d928776db00c>\u001b[0m in \u001b[0;36m<cell line: 1>\u001b[0;34m()\u001b[0m\n\u001b[0;32m----> 1\u001b[0;31m \u001b[0mtree_regressor\u001b[0m\u001b[0;34m.\u001b[0m\u001b[0mfit\u001b[0m\u001b[0;34m(\u001b[0m\u001b[0mx_train\u001b[0m\u001b[0;34m,\u001b[0m \u001b[0my_train\u001b[0m\u001b[0;34m)\u001b[0m\u001b[0;34m\u001b[0m\u001b[0;34m\u001b[0m\u001b[0m\n\u001b[0m\u001b[1;32m      2\u001b[0m \u001b[0mtree_regressor\u001b[0m\u001b[0;34m.\u001b[0m\u001b[0mscore\u001b[0m\u001b[0;34m(\u001b[0m\u001b[0mx_test\u001b[0m\u001b[0;34m,\u001b[0m \u001b[0my_test\u001b[0m\u001b[0;34m)\u001b[0m\u001b[0;34m\u001b[0m\u001b[0;34m\u001b[0m\u001b[0m\n",
            "\u001b[0;31mNameError\u001b[0m: name 'tree_regressor' is not defined"
          ]
        }
      ],
      "source": [
        "tree_regressor.fit(x_train, y_train)\n",
        "tree_regressor.score(x_test, y_test)"
      ]
    },
    {
      "cell_type": "code",
      "execution_count": null,
      "metadata": {
        "scrolled": true,
        "id": "x0X2krI_OwyR",
        "outputId": "b0d064b6-da8e-47a0-ddf1-448e912c4f5f"
      },
      "outputs": [
        {
          "name": "stdout",
          "output_type": "stream",
          "text": [
            "Test score across different alpha is: [ 0.00288374  0.11783402  0.01839236  0.07895654  0.12513272  0.10452675\n",
            "  0.08409373  0.07772107  0.13259414  0.07794931  0.15049936  0.09429538\n",
            "  0.09018134  0.1409256   0.14901107  0.11299395 -0.08060936  0.13718301\n",
            "  0.19455962  0.1356184   0.14632508  0.10224825  0.17226044  0.12252717\n",
            "  0.04197851  0.00096723  0.08239528  0.11319743  0.21061516  0.1068886\n",
            "  0.11675574  0.17530735  0.15034616  0.14233135  0.2162688   0.08283126\n",
            "  0.10920297  0.12719449  0.24921263 -0.08714019  0.21707586  0.09920838\n",
            "  0.1974844   0.10789448  0.11230833  0.25922555  0.19455123  0.20647585\n",
            "  0.29702014  0.09527493  0.20029824  0.22280683  0.07229681  0.20600854\n",
            "  0.11024277  0.19403403  0.01266526 -0.00917411  0.06232599  0.15891756\n",
            "  0.0622379  -0.04312745  0.11482607 -0.0548403   0.1530676   0.19205254\n",
            "  0.15557445  0.19695601  0.02686982  0.10267209  0.07573881  0.17027273\n",
            "  0.20088164  0.01662097  0.20996333 -0.0485657  -0.00601388  0.27807246\n",
            " -0.17346446 -0.02413911]\n",
            "\n",
            "Train score across different alpha is: [0.39016585 0.20378124 0.34368234 0.23857271 0.43612363 0.22316826\n",
            " 0.47716058 0.2248101  0.49919559 0.22628594 0.52107633 0.32039053\n",
            " 0.56377761 0.32005476 0.54459517 0.30424295 0.55917249 0.35689599\n",
            " 0.67717924 0.38074841 0.64394096 0.44496401 0.7023387  0.4552969\n",
            " 0.67377309 0.48864056 0.78506833 0.45259547 0.71643706 0.57366174\n",
            " 0.7128221  0.66788081 0.73992032 0.5878129  0.69194157 0.55551546\n",
            " 0.84908912 0.64294091 0.80104405 0.6877794  0.8147113  0.64299078\n",
            " 0.84566352 0.62608609 0.85588691 0.80659871 0.90770543 0.7441021\n",
            " 0.91847068 0.76726373 0.83968413 0.75518205 0.87411919 0.77125274\n",
            " 0.95346864 0.84542913 0.90506774 0.75784309 0.92664939 0.84833035\n",
            " 0.92573557 0.86872795 0.91454203 0.88459015 0.95906017 0.91394159\n",
            " 0.96370689 0.87495928 0.95320925 0.9013301  0.95667297 0.92042547\n",
            " 0.98145946 0.89632197 0.99070369 0.9249864  0.96648558 0.90976418\n",
            " 0.96505503 0.92624239]\n"
          ]
        }
      ],
      "source": [
        "tree_test_score_list= tree_regressor.cv_results_[\"mean_test_score\"]\n",
        "print(f'Test score across different alpha is: {tree_test_score_list}')\n",
        "tree_train_score_list= tree_regressor.cv_results_[\"mean_train_score\"]\n",
        "print(f'\\nTrain score across different alpha is: {tree_train_score_list}')\n"
      ]
    },
    {
      "cell_type": "code",
      "execution_count": null,
      "metadata": {
        "id": "RYJHsK8aOwyR",
        "outputId": "b5f804dd-3981-4a4e-95f9-d5bf33849892"
      },
      "outputs": [
        {
          "name": "stdout",
          "output_type": "stream",
          "text": [
            "Best parameter for Decision tree regression is: {'max_depth': 11, 'max_features': 4, 'splitter': 'best'}\n",
            "Average training score for KNN regression model using 10Fold CV is: 0.6961121122254227\n",
            "Average testing score for KNN regression model using 10Fold CV is: 0.11186316283455437\n"
          ]
        }
      ],
      "source": [
        "print(f'Best parameter for Decision tree regression is: {tree_regressor.best_params_}')\n",
        "print(f'Average training score for KNN regression model using 10Fold CV is: {(tree_train_score_list.sum())/len(tree_train_score_list)}')\n",
        "print(f'Average testing score for KNN regression model using 10Fold CV is: {(tree_test_score_list.sum())/len(tree_test_score_list)}')\n"
      ]
    },
    {
      "cell_type": "code",
      "execution_count": null,
      "metadata": {
        "id": "eagQpha-OwyS",
        "outputId": "422b88d3-f0a2-4ec3-c80c-0ddecc712061"
      },
      "outputs": [
        {
          "name": "stdout",
          "output_type": "stream",
          "text": [
            "Train RMSE for best Decision Tree regression model using 10 Fold CV is: -14017.185165075594\n",
            "Test  RMSE for best Decision Tree regression model using 10 Fold CV is: -28550.982996151834\n"
          ]
        }
      ],
      "source": [
        "#Implementing Decision Tree Regressor model with the best estimator found from above analysis\n",
        "tree_final= DecisionTreeRegressor(max_depth=8, max_features=5, splitter= 'random')\n",
        "tree_final.fit(x_train, y_train)\n",
        "tree_final_train_scores=cross_val_score(tree_final,x_train, y_train, cv=10, scoring= 'neg_mean_squared_error')\n",
        "tree_final_test_scores=cross_val_score(tree_final,x_test, y_test, cv=10, scoring= 'neg_mean_squared_error')\n",
        "print(f'Train RMSE for best Decision Tree regression model using 10 Fold CV is: {tree_final_train_scores.mean()}')\n",
        "print(f'Test  RMSE for best Decision Tree regression model using 10 Fold CV is: {tree_final_test_scores.mean()}')\n"
      ]
    },
    {
      "cell_type": "code",
      "execution_count": null,
      "metadata": {
        "id": "aokG4pUbOwyS"
      },
      "outputs": [],
      "source": [
        "compiled=compiled.append({'Regressor': 'Decision_Tree_Regression',\n",
        "                          'Avg_Train_Score': (tree_train_score_list.sum())/len(tree_train_score_list),\n",
        "                          'Avg_Test_Score':  (tree_test_score_list.sum())/len(tree_test_score_list),\n",
        "                          'RMSE_Best_Param': tree_final_test_scores.mean(),\n",
        "                          'Best_Hyperparameters': tree_regressor.best_params_}, ignore_index=True)"
      ]
    },
    {
      "cell_type": "markdown",
      "metadata": {
        "id": "PO-cm01DOwyS"
      },
      "source": [
        "# Comparing all the models best paramaters value"
      ]
    },
    {
      "cell_type": "code",
      "execution_count": 1,
      "metadata": {
        "colab": {
          "base_uri": "https://localhost:8080/",
          "height": 179
        },
        "id": "R6iFoim6OwyS",
        "outputId": "f407bc92-9bb5-4ee7-d152-225ad3b0ad78"
      },
      "outputs": [
        {
          "output_type": "error",
          "ename": "NameError",
          "evalue": "name 'compiled' is not defined",
          "traceback": [
            "\u001b[0;31m---------------------------------------------------------------------------\u001b[0m",
            "\u001b[0;31mNameError\u001b[0m                                 Traceback (most recent call last)",
            "\u001b[0;32m<ipython-input-1-049fc480cf10>\u001b[0m in \u001b[0;36m<cell line: 1>\u001b[0;34m()\u001b[0m\n\u001b[0;32m----> 1\u001b[0;31m \u001b[0mcompiled\u001b[0m\u001b[0;34m\u001b[0m\u001b[0;34m\u001b[0m\u001b[0m\n\u001b[0m",
            "\u001b[0;31mNameError\u001b[0m: name 'compiled' is not defined"
          ]
        }
      ],
      "source": [
        "compiled"
      ]
    },
    {
      "cell_type": "code",
      "execution_count": null,
      "metadata": {
        "id": "glX2rn2EOwyS"
      },
      "outputs": [],
      "source": []
    }
  ],
  "metadata": {
    "kernelspec": {
      "display_name": "Python 3",
      "language": "python",
      "name": "python3"
    },
    "language_info": {
      "codemirror_mode": {
        "name": "ipython",
        "version": 3
      },
      "file_extension": ".py",
      "mimetype": "text/x-python",
      "name": "python",
      "nbconvert_exporter": "python",
      "pygments_lexer": "ipython3",
      "version": "3.8.8"
    },
    "colab": {
      "provenance": []
    }
  },
  "nbformat": 4,
  "nbformat_minor": 0
}